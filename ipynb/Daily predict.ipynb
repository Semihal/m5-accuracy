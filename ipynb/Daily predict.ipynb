{
 "cells": [
  {
   "cell_type": "code",
   "execution_count": null,
   "metadata": {},
   "outputs": [],
   "source": [
    "%load_ext autoreload\n",
    "%autoreload 2"
   ]
  },
  {
   "cell_type": "code",
   "execution_count": null,
   "metadata": {},
   "outputs": [],
   "source": [
    "import os\n",
    "os.chdir('..')\n",
    "import warnings\n",
    "warnings.filterwarnings('ignore')\n",
    "\n",
    "from tqdm.notebook import tqdm\n",
    "import joblib\n",
    "import numpy as np\n",
    "import pandas as pd\n",
    "import lightgbm as lgb\n",
    "\n",
    "import matplotlib.pyplot as plt\n",
    "%matplotlib inline\n",
    "\n",
    "from m5.read import build_base_dataset\n",
    "from m5.metric import WRMSSE\n",
    "from m5.constants import ID_COLUMNS\n",
    "from m5.funcs import only_days_columns\n",
    "from utils.dtype import downcast"
   ]
  },
  {
   "cell_type": "code",
   "execution_count": null,
   "metadata": {},
   "outputs": [],
   "source": [
    "import logging\n",
    "logging.basicConfig(format=\"[%(asctime)s] %(levelname)s: %(message)s\")\n",
    "logger = logging.getLogger()\n",
    "logger.setLevel(logging.DEBUG)"
   ]
  },
  {
   "cell_type": "code",
   "execution_count": null,
   "metadata": {},
   "outputs": [],
   "source": [
    "ds = build_base_dataset()"
   ]
  },
  {
   "cell_type": "code",
   "execution_count": null,
   "metadata": {},
   "outputs": [],
   "source": [
    "metric = WRMSSE(ds[ds['d'] < 1914], ds[ds['d'] >= 1914])"
   ]
  },
  {
   "cell_type": "code",
   "execution_count": null,
   "metadata": {},
   "outputs": [],
   "source": [
    "# затираем реальные продажи и цену, дабы не ликнуть данные\n",
    "ds['sold'] = ds['sold'].astype(np.float32)\n",
    "ds.loc[:, 'target_sold'] = ds.loc[:, 'sold']\n",
    "ds.loc[ds['d'] >= 1914, 'sold'] = np.nan\n",
    "\n",
    "ds['sell_price'] = ds['sell_price'].astype(np.float32)"
   ]
  },
  {
   "cell_type": "markdown",
   "metadata": {},
   "source": [
    "# Подготовка набора данных"
   ]
  },
  {
   "cell_type": "markdown",
   "metadata": {},
   "source": [
    "## Исключение данных \"до старта продаж\""
   ]
  },
  {
   "cell_type": "code",
   "execution_count": null,
   "metadata": {},
   "outputs": [],
   "source": [
    "# определяем стартпродаж по критерию - как только был продана хотяб 1 единца - старт т наступил\n",
    "ds['start_of_sales'] = ds.groupby('id')['sold'].transform(lambda x: np.argmax(x > 0))\n",
    "# поскольку сдвиг агрегатов у нас минимум 28 дней, то сдвинем старт продаж на этот срок\n",
    "ds = ds[ds['d'] > (ds['start_of_sales'])]"
   ]
  },
  {
   "cell_type": "code",
   "execution_count": null,
   "metadata": {},
   "outputs": [],
   "source": [
    "def calculate_features(ds: pd.DataFrame, delta: int):\n",
    "    group_by_id = ds.sort_values(by='d').groupby('id')\n",
    "    features = pd.DataFrame({\n",
    "        f'sold_previous_{delta}': group_by_id['sold'].transform(lambda x: x.shift(1 + delta)).values,\n",
    "        f'sold_mean_3_{delta}': group_by_id['sold'].transform(lambda x: x.shift(1 + delta).rolling(3).mean()).values,\n",
    "        f'sold_mean_7_{delta}': group_by_id['sold'].transform(lambda x: x.shift(1 + delta).rolling(7).mean()).values,\n",
    "        f'sold_mean_14_{delta}': group_by_id['sold'].transform(lambda x: x.shift(1 + delta).rolling(14).mean()).values,\n",
    "        f'sold_mean_28_{delta}': group_by_id['sold'].transform(lambda x: x.shift(1 + delta).rolling(28).mean()).values,\n",
    "        f'sold_mean_56_{delta}': group_by_id['sold'].transform(lambda x: x.shift(1 + delta).rolling(56).mean()).values,\n",
    "        f'sold_mean_182_{delta}': group_by_id['sold'].transform(lambda x: x.shift(1 + delta).rolling(182).mean()).values,\n",
    "        f'price_previous_{delta}': group_by_id['sell_price'].transform(lambda x: x.shift(1 + delta)).values,\n",
    "        f'price_diff_3_{delta}': group_by_id['sell_price'].transform(lambda x: x.diff(3).shift(delta)).values,\n",
    "        f'price_diff_7_{delta}': group_by_id['sell_price'].transform(lambda x: x.diff(7).shift(delta)).values,\n",
    "        f'price_diff_28_{delta}': group_by_id['sell_price'].transform(lambda x: x.diff(28).shift(delta)).values\n",
    "    })\n",
    "    return features"
   ]
  },
  {
   "cell_type": "code",
   "execution_count": null,
   "metadata": {},
   "outputs": [],
   "source": [
    "%%time\n",
    "features_0 = calculate_features(ds, delta=7 * 0)\n",
    "features_1 = calculate_features(ds, delta=7 * 1)\n",
    "features_2 = calculate_features(ds, delta=7 * 2)\n",
    "new_features = features_0.columns.tolist() + features_1.columns.tolist() + features_2.columns.tolist()"
   ]
  },
  {
   "cell_type": "code",
   "execution_count": null,
   "metadata": {},
   "outputs": [],
   "source": [
    "ds = ds.reset_index(drop=True)\n",
    "ds = pd.concat([ds, features_0, features_1, features_2], axis=1)"
   ]
  },
  {
   "cell_type": "code",
   "execution_count": null,
   "metadata": {},
   "outputs": [],
   "source": [
    "targets_shift_col = [f'target_{lag}' for lag in range(0, 28)]\n",
    "target_lag_path = 'data/cache/target_lag.jbl'\n",
    "\n",
    "if os.path.isfile(target_lag_path):\n",
    "    logging.info('Use cache.')\n",
    "    targets_shift = joblib.load(target_lag_path).reset_index(drop=True)[targets_shift_col]\n",
    "    ds = pd.concat([ds, targets_shift], axis=1)\n",
    "else:\n",
    "    logging.info('Re-build sold lag features.')\n",
    "    group_by_id = ds.sort_values(by='d')[['id', 'target_sold']].groupby('id')\n",
    "    for lag in tqdm(range(0, 28)):\n",
    "        ds[f'target_{lag}'] = group_by_id['target_sold'].transform(lambda x: x.shift(-lag))\n",
    "        \n",
    "    logging.info(f'Save to: {target_lag_path}')\n",
    "    joblib.dump(ds[ID_COLUMNS + targets_shift_col], target_lag_path)"
   ]
  },
  {
   "cell_type": "code",
   "execution_count": null,
   "metadata": {},
   "outputs": [],
   "source": [
    "ds = ds.dropna(subset=new_features + targets_shift_col)\n",
    "ds = downcast(ds)"
   ]
  },
  {
   "cell_type": "markdown",
   "metadata": {},
   "source": [
    "# Обучение модели"
   ]
  },
  {
   "cell_type": "code",
   "execution_count": null,
   "metadata": {},
   "outputs": [],
   "source": [
    "ds['event_type_1'] = ds['event_type_1'].cat.add_categories('NaN').fillna('NaN')\n",
    "ds['event_name_1'] = ds['event_name_1'].cat.add_categories('NaN').fillna('NaN')\n",
    "ds['event_type_2'] = ds['event_type_2'].cat.add_categories('NaN').fillna('NaN')\n",
    "ds['event_name_2'] = ds['event_name_2'].cat.add_categories('NaN').fillna('NaN')"
   ]
  },
  {
   "cell_type": "code",
   "execution_count": null,
   "metadata": {},
   "outputs": [],
   "source": [
    "CATEGORICAL_FEATURES = [\n",
    "    'item_id', 'dept_id','store_id', 'cat_id', 'state_id',\n",
    "    'weekday',\n",
    "    'event_name_1', 'event_name_2', 'event_type_1', 'event_type_2',\n",
    "    'snap_CA', 'snap_TX', 'snap_WI',\n",
    "]\n",
    "\n",
    "NUMERICAL_FEATURES = [\n",
    "    'sell_price'\n",
    "]+ new_features\n",
    "\n",
    "XS = CATEGORICAL_FEATURES + NUMERICAL_FEATURES\n",
    "TARGET = 'target_sold'"
   ]
  },
  {
   "cell_type": "code",
   "execution_count": null,
   "metadata": {},
   "outputs": [],
   "source": [
    "train_ds = ds[(ds['d'].between(818, 1913))]\n",
    "val_ds = ds[ds['d'] >= 1914]\n",
    "train = train_ds[XS + targets_shift_col].dropna()\n",
    "val = val_ds[XS + targets_shift_col].dropna()"
   ]
  },
  {
   "cell_type": "code",
   "execution_count": null,
   "metadata": {},
   "outputs": [],
   "source": [
    "train.shape, val.shape"
   ]
  },
  {
   "cell_type": "code",
   "execution_count": null,
   "metadata": {},
   "outputs": [],
   "source": [
    "params = {\n",
    "    'objective': 'poisson',\n",
    "    'num_iterations': 2000,\n",
    "    'learning_rate': 0.075,\n",
    "    'verbose': 20,\n",
    "    'bagging_fraction': 0.5,\n",
    "    'feature_fraction': 0.7,\n",
    "    'metric': ['rmse']\n",
    "}"
   ]
  },
  {
   "cell_type": "code",
   "execution_count": null,
   "metadata": {},
   "outputs": [],
   "source": [
    "models_day = {}\n",
    "for day_shift in range(0, 28):\n",
    "    logging.info(f'Train model for {day_shift} day.')\n",
    "    target = f'target_{day_shift}'\n",
    "    cat_train_set = lgb.Dataset(train[XS], train[target])\n",
    "    cat_valid_set = lgb.Dataset(val[XS], val[target])    \n",
    "    \n",
    "\n",
    "    logging.info('Starting model train')\n",
    "    evals_result = {}\n",
    "    model = lgb.train(\n",
    "        params,\n",
    "        train_set=cat_train_set,\n",
    "        valid_sets=[cat_train_set, cat_valid_set],\n",
    "        early_stopping_rounds=10,\n",
    "        categorical_feature=CATEGORICAL_FEATURES,\n",
    "        evals_result=evals_result,\n",
    "        verbose_eval=20 \n",
    "    )\n",
    "    models_day[day_shift] = {\n",
    "        'model': model,\n",
    "        'evals_result': evals_result\n",
    "    }\n",
    "    logging.info('The model is trained')"
   ]
  },
  {
   "cell_type": "code",
   "execution_count": null,
   "metadata": {},
   "outputs": [],
   "source": [
    "fig, axs = plt.subplots(4, 7, figsize=(25, 15))\n",
    "for idx in range(0, 28):\n",
    "    row = idx // 7\n",
    "    col = idx % 7\n",
    "    ax = axs[row, col]\n",
    "    \n",
    "    model_evals = models_day[0]['evals_result']\n",
    "    lgb.plot_metric(model_evals, metric='rmse', ax=ax)\n",
    "    ax.set_title(f'Day: {idx + 1}')\n",
    "fig.tight_layout()"
   ]
  },
  {
   "cell_type": "code",
   "execution_count": null,
   "metadata": {},
   "outputs": [],
   "source": [
    "val_pred = val_ds[['constant_id', 'id'] + XS].dropna()\n",
    "\n",
    "for idx_, model_dict in models_day.items():\n",
    "    model = model_dict['model']\n",
    "    predict = model.predict(val_pred[XS])\n",
    "    val_pred.loc[:, f'd_{1914 + idx_}'] = predict\n",
    "\n",
    "val_pred = val_pred[ID_COLUMNS + val_pred.columns[val_pred.columns.str.startswith('d_')].tolist()]\n",
    "print('WRMSSE: ', metric.score(val_pred))"
   ]
  },
  {
   "cell_type": "markdown",
   "metadata": {},
   "source": [
    "# Отправка сабмита"
   ]
  },
  {
   "cell_type": "code",
   "execution_count": null,
   "metadata": {},
   "outputs": [],
   "source": [
    "submit_days = only_days_columns(val_pred)\n",
    "submit_evaluation = val_pred[['id'] + submit_days]\n",
    "submit_rename_dict = {\n",
    "    col: f'F{i}' \n",
    "    for i, col in enumerate(only_days_columns(submit_evaluation), start=1)\n",
    "}\n",
    "submit_evaluation = submit_evaluation.rename(columns=submit_rename_dict)\n",
    "\n",
    "submit_validation = submit_evaluation.copy()\n",
    "submit_validation['id'] = submit_validation.id.str.replace('evaluation', 'validation')\n",
    "\n",
    "submit = pd.concat([submit_evaluation, submit_validation])"
   ]
  },
  {
   "cell_type": "code",
   "execution_count": null,
   "metadata": {},
   "outputs": [],
   "source": [
    "submit.to_csv('submit.csv', index=False)"
   ]
  },
  {
   "cell_type": "code",
   "execution_count": null,
   "metadata": {},
   "outputs": [],
   "source": [
    "!kaggle competitions submit -c m5-forecasting-accuracy -f submit.csv -m \"Daily predict\""
   ]
  }
 ],
 "metadata": {
  "kernelspec": {
   "display_name": "Python 3",
   "language": "python",
   "name": "python3"
  },
  "language_info": {
   "codemirror_mode": {
    "name": "ipython",
    "version": 3
   },
   "file_extension": ".py",
   "mimetype": "text/x-python",
   "name": "python",
   "nbconvert_exporter": "python",
   "pygments_lexer": "ipython3",
   "version": "3.7.5"
  }
 },
 "nbformat": 4,
 "nbformat_minor": 4
}