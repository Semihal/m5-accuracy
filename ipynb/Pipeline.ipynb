{
 "cells": [
  {
   "cell_type": "code",
   "execution_count": 1,
   "metadata": {},
   "outputs": [],
   "source": [
    "import os\n",
    "os.chdir('..')"
   ]
  },
  {
   "cell_type": "code",
   "execution_count": 2,
   "metadata": {},
   "outputs": [],
   "source": [
    "import warnings\n",
    "warnings.filterwarnings('ignore')\n",
    "import pandas as pd\n",
    "import lightgbm as lgb\n",
    "\n",
    "import matplotlib.pyplot as plt\n",
    "%matplotlib inline\n",
    "\n",
    "from baseline import build_base_dataset\n",
    "from utils.read import read_prices_dataset\n",
    "from m5.metric import WRMSSE\n",
    "from m5.constants import *\n",
    "from utils.funcs import day_to_week_dict, select_tail_days, only_days_columns"
   ]
  },
  {
   "cell_type": "markdown",
   "metadata": {},
   "source": [
    "# Подготовка набора данных"
   ]
  },
  {
   "cell_type": "code",
   "execution_count": 3,
   "metadata": {},
   "outputs": [],
   "source": [
    "ds = build_base_dataset()"
   ]
  },
  {
   "cell_type": "code",
   "execution_count": 59,
   "metadata": {},
   "outputs": [],
   "source": [
    "ds = ds.drop(['event_name_1', 'event_type_1', 'event_name_2', 'event_type_2'], axis=1)"
   ]
  },
  {
   "cell_type": "code",
   "execution_count": 4,
   "metadata": {},
   "outputs": [],
   "source": [
    "ds['sold_r7s28mean'] = ds['sold'].rolling(7).mean().shift(28)\n",
    "ds['sold_r28s28mean'] = ds['sold'].rolling(28).mean().shift(28)\n",
    "ds['sold_r183s28mean'] = ds['sold'].rolling(183).mean().shift(28)\n",
    "ds['sold_r365s28mean'] = ds['sold'].rolling(365).mean().shift(28)\n",
    "ds['sold_r365s183mean'] = ds['sold'].rolling(365).mean().shift(183)\n",
    "ds['sold_r365s365mean'] = ds['sold'].rolling(365).mean().shift(365)"
   ]
  },
  {
   "cell_type": "code",
   "execution_count": 5,
   "metadata": {},
   "outputs": [],
   "source": [
    "ds['price_r7s28mean'] = ds['sell_price'].rolling(7).mean().shift(28)\n",
    "ds['price_r28s28mean'] = ds['sell_price'].rolling(28).mean().shift(28)\n",
    "ds['price_r183s28mean'] = ds['sell_price'].rolling(183).mean().shift(28)\n",
    "ds['price_r365s28mean'] = ds['sell_price'].rolling(365).mean().shift(28)\n",
    "ds['price_r365s183mean'] = ds['sell_price'].rolling(365).mean().shift(183)\n",
    "ds['price_r365s365mean'] = ds['sell_price'].rolling(365).mean().shift(365)"
   ]
  },
  {
   "cell_type": "markdown",
   "metadata": {},
   "source": [
    "# Обучение модели"
   ]
  },
  {
   "cell_type": "code",
   "execution_count": null,
   "metadata": {},
   "outputs": [],
   "source": [
    "CATEGORICAL_FEATURES = [\n",
    "    'dept_id', 'cat_id', 'store_id', 'state_id',\n",
    "    'weekday', 'month', 'year'\n",
    "]\n",
    "NUMERICAL_FEATURES = [\n",
    "    'sell_price', \n",
    "    'sold_r7s28mean', 'sold_r28s28mean', 'sold_r183s28mean', 'sold_r365s28mean', 'sold_r365s183mean', 'sold_r365s365mean',\n",
    "    'price_r7s28mean', 'price_r28s28mean', 'price_r183s28mean', 'price_r365s28mean', 'price_r365s183mean', 'price_r365s365mean',\n",
    "    'price_dept_r7s28mean', 'price_dept_r28s28mean', 'price_state_r7s28mean', 'price_state_r28s28mean', 'price_store_r7s28mean', 'price_store_r28s28mean'\n",
    "]\n",
    "\n",
    "XS = CATEGORICAL_FEATURES + NUMERICAL_FEATURES\n",
    "TARGET = 'sold'"
   ]
  },
  {
   "cell_type": "code",
   "execution_count": 11,
   "metadata": {},
   "outputs": [],
   "source": [
    "train_ds = ds[ds['d'] < 1914]\n",
    "val_ds = ds[ds['d'] >= 1914]\n",
    "# объект для подсчета метрик\n",
    "metric = WRMSSE(train_ds, val_ds)\n",
    "\n",
    "# объекты для обучения\n",
    "train_set = lgb.Dataset(train_ds[XS], train_ds[TARGET], categorical_feature=CATEGORICAL_FEATURES)\n",
    "valid_set = lgb.Dataset(val_ds[XS], val_ds[TARGET], categorical_feature=CATEGORICAL_FEATURES)"
   ]
  },
  {
   "cell_type": "code",
   "execution_count": null,
   "metadata": {},
   "outputs": [],
   "source": [
    "params = {\n",
    "    'objective': 'rmse',\n",
    "    'num_iterations': 5000,\n",
    "    'learning_rate': 0.1,\n",
    "    'verbose': 20,\n",
    "'    bagging_fraction': 0.5,\n",
    "    'feature_fraction': 0.7,\n",
    "    'max_depth': 8,\n",
    "    'num_leaves': 32\n",
    "}"
   ]
  },
  {
   "cell_type": "code",
   "execution_count": null,
   "metadata": {
    "scrolled": true
   },
   "outputs": [],
   "source": [
    "model = lgb.train(\n",
    "    params,\n",
    "    train_set=train_set,\n",
    "    valid_sets=[train_set, valid_set],\n",
    "    early_stopping_rounds=10,\n",
    "    categorical_feature=CATEGORICAL_FEATURES\n",
    ")"
   ]
  },
  {
   "cell_type": "code",
   "execution_count": null,
   "metadata": {
    "scrolled": false
   },
   "outputs": [],
   "source": [
    "plt.figure(figsize=(15, 5))\n",
    "lgb.plot_importance(model, importance_type='gain')"
   ]
  },
  {
   "cell_type": "markdown",
   "metadata": {},
   "source": [
    "# Подготовка \"станартного\" вида валидации"
   ]
  },
  {
   "cell_type": "code",
   "execution_count": null,
   "metadata": {},
   "outputs": [],
   "source": [
    "val_pred = val_ds.copy()\n",
    "val_pred['sold_predict'] = model.predict(val_ds[XS])\n",
    "val_pred['d'] = val_pred.d.apply(lambda x: f'd_{x}')\n",
    "val_pred = val_pred.pivot(index='id', columns='d', values='sold_predict')\n",
    "val_pred = val_ds[ID_COLUMNS].drop_duplicates().merge(val_pred, on='id')"
   ]
  },
  {
   "cell_type": "code",
   "execution_count": 61,
   "metadata": {},
   "outputs": [
    {
     "name": "stdout",
     "output_type": "stream",
     "text": [
      "WRMSSE:  0.6200938982182481\n"
     ]
    }
   ],
   "source": [
    "print('WRMSSE: ', metric.score(val_pred))"
   ]
  },
  {
   "cell_type": "markdown",
   "metadata": {},
   "source": [
    "# Отправка сабмита"
   ]
  },
  {
   "cell_type": "code",
   "execution_count": 107,
   "metadata": {},
   "outputs": [],
   "source": [
    "submit_days = only_days_columns(val_pred)\n",
    "submit_evaluation = val_pred[['id'] + submit_days]\n",
    "submit_rename_dict = {\n",
    "    col: f'F{i}' \n",
    "    for i, col in enumerate(only_days_columns(submit_evaluation), start=1)\n",
    "}\n",
    "submit_evaluation = submit_evaluation.rename(columns=submit_rename_dict)\n",
    "\n",
    "submit_validation = submit_evaluation.copy()\n",
    "submit_validation['id'] = submit_validation.id.str.replace('evaluation', 'validation')\n",
    "\n",
    "submit = pd.concat([submit_evaluation, submit_validation])"
   ]
  },
  {
   "cell_type": "code",
   "execution_count": 108,
   "metadata": {},
   "outputs": [],
   "source": [
    "submit.to_csv('submit.csv', index=False)"
   ]
  },
  {
   "cell_type": "code",
   "execution_count": 20,
   "metadata": {},
   "outputs": [
    {
     "name": "stdout",
     "output_type": "stream",
     "text": [
      "100%|██████████████████████████████████████| 32.5M/32.5M [00:03<00:00, 9.07MB/s]\n",
      "Successfully submitted to M5 Forecasting - Accuracy"
     ]
    }
   ],
   "source": [
    "!kaggle competitions submit -c m5-forecasting-accuracy -f submit.csv -m \"Test pipeline\""
   ]
  }
 ],
 "metadata": {
  "kernelspec": {
   "display_name": "Python 3",
   "language": "python",
   "name": "python3"
  },
  "language_info": {
   "codemirror_mode": {
    "name": "ipython",
    "version": 3
   },
   "file_extension": ".py",
   "mimetype": "text/x-python",
   "name": "python",
   "nbconvert_exporter": "python",
   "pygments_lexer": "ipython3",
   "version": "3.7.5"
  }
 },
 "nbformat": 4,
 "nbformat_minor": 2
}
