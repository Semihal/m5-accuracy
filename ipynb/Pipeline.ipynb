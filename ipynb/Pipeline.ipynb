{
 "cells": [
  {
   "cell_type": "code",
   "execution_count": 1,
   "metadata": {},
   "outputs": [],
   "source": [
    "%load_ext autoreload\n",
    "%autoreload 2"
   ]
  },
  {
   "cell_type": "code",
   "execution_count": 2,
   "metadata": {},
   "outputs": [],
   "source": [
    "import os\n",
    "os.chdir('..')\n",
    "import warnings\n",
    "warnings.filterwarnings('ignore')\n",
    "import gc\n",
    "\n",
    "from tqdm.notebook import tqdm\n",
    "import joblib\n",
    "import numpy as np\n",
    "import pandas as pd\n",
    "import lightgbm as lgb\n",
    "\n",
    "import matplotlib.pyplot as plt\n",
    "%matplotlib inline\n",
    "import seaborn as sns\n",
    "\n",
    "from baseline import build_base_dataset\n",
    "from m5.metric import WRMSSE\n",
    "from m5.constants import *\n",
    "from utils.funcs import only_days_columns\n",
    "from utils.dtype import downcast\n",
    "from baseline import window_stats"
   ]
  },
  {
   "cell_type": "code",
   "execution_count": 3,
   "metadata": {},
   "outputs": [],
   "source": [
    "import logging\n",
    "logging.basicConfig(format=\"[%(asctime)s] %(levelname)s: %(message)s\")\n",
    "logger = logging.getLogger()\n",
    "logger.setLevel(logging.DEBUG)"
   ]
  },
  {
   "cell_type": "code",
   "execution_count": 4,
   "metadata": {},
   "outputs": [
    {
     "name": "stderr",
     "output_type": "stream",
     "text": [
      "[2020-06-22 11:04:24,162] INFO: Use cache\n"
     ]
    }
   ],
   "source": [
    "ds = build_base_dataset()\n",
    "# ds = joblib.load('data/cache/ds_with_features.jbl')\n",
    "# metric = WRMSSE(ds[ds['d'] < 1914], ds[ds['d'] >= 1914], target_col='target_sold')"
   ]
  },
  {
   "cell_type": "code",
   "execution_count": 5,
   "metadata": {
    "pycharm": {
     "name": "#%%\n"
    }
   },
   "outputs": [
    {
     "name": "stderr",
     "output_type": "stream",
     "text": [
      "[2020-06-22 11:05:24,620] INFO: Calculate profit\n",
      "[2020-06-22 11:05:42,577] INFO: Transform train to standard view\n",
      "[2020-06-22 11:07:19,106] INFO: Transform validation to standard view\n",
      "[2020-06-22 11:07:19,703] INFO: Calculate levels specification\n",
      "100%|██████████| 12/12 [00:56<00:00,  4.71s/it]\n"
     ]
    }
   ],
   "source": [
    "metric = WRMSSE(ds[ds['d'] < 1914], ds[ds['d'] >= 1914])"
   ]
  },
  {
   "cell_type": "code",
   "execution_count": 6,
   "metadata": {
    "pycharm": {
     "name": "#%%\n"
    }
   },
   "outputs": [],
   "source": [
    "# затираем реальные продажи и цену, дабы не ликнуть данные\n",
    "ds['sold'] = ds['sold'].astype(np.float32)\n",
    "ds.loc[:, 'target_sold'] = ds.loc[:, 'sold']\n",
    "ds.loc[ds['d'] >= 1914, 'sold'] = np.nan\n",
    "\n",
    "ds['sell_price'] = ds['sell_price'].astype(np.float32)"
   ]
  },
  {
   "cell_type": "markdown",
   "metadata": {
    "pycharm": {
     "name": "#%% md\n"
    }
   },
   "source": [
    "# Подготовка набора данных"
   ]
  },
  {
   "cell_type": "markdown",
   "metadata": {},
   "source": [
    "## Статистика по группам"
   ]
  },
  {
   "cell_type": "code",
   "execution_count": 7,
   "metadata": {
    "scrolled": true
   },
   "outputs": [
    {
     "name": "stderr",
     "output_type": "stream",
     "text": [
      "[2020-06-22 11:08:23,369] INFO: Use cache\n"
     ]
    }
   ],
   "source": [
    "ds_stat_features = window_stats(\n",
    "    ds,\n",
    "    features=['sold', 'sell_price'],\n",
    "    stat_funcs=['mean', 'std'],\n",
    "    levels=[\n",
    "        'id',\n",
    "        'item_id',\n",
    "        ['state_id', 'item_id'],\n",
    "        ['state_id', 'dept_id'],\n",
    "        ['store_id', 'item_id'],\n",
    "        ['store_id', 'dept_id'],\n",
    "    ],\n",
    "    use_cache=True\n",
    ")\n",
    "ds_stat_features = ds_stat_features.drop(ID_COLUMNS, axis=1)\n",
    "stats_feature = list(set(ds_stat_features.columns.tolist()).difference(ds.columns))\n",
    "\n",
    "ds = pd.concat([ds, ds_stat_features], axis=1)"
   ]
  },
  {
   "cell_type": "code",
   "execution_count": 8,
   "metadata": {},
   "outputs": [
    {
     "data": {
      "text/plain": [
       "66"
      ]
     },
     "execution_count": 8,
     "metadata": {},
     "output_type": "execute_result"
    }
   ],
   "source": [
    "del ds_stat_features\n",
    "gc.collect()"
   ]
  },
  {
   "cell_type": "markdown",
   "metadata": {},
   "source": [
    "## Исключение данных \"до старта продаж\""
   ]
  },
  {
   "cell_type": "code",
   "execution_count": 9,
   "metadata": {},
   "outputs": [],
   "source": [
    "# определяем стартпродаж по критерию - как только был продана хотяб 1 единца - старт т наступил\n",
    "ds['start_of_sales'] = ds.groupby('id')['sold'].transform(lambda x: np.argmax(x > 0))\n",
    "# поскольку сдвиг агрегатов у нас минимум 28 дней, то сдвинем старт продаж на этот срок\n",
    "ds = ds[ds['d'] > (ds['start_of_sales'])]"
   ]
  },
  {
   "cell_type": "code",
   "execution_count": 10,
   "metadata": {},
   "outputs": [],
   "source": [
    "# выделим часть данных, в которых сверхбольшое количество покупок\n",
    "ds['use_for_train'] = ds['target_sold'] < 100"
   ]
  },
  {
   "cell_type": "markdown",
   "metadata": {},
   "source": [
    "## Лаги"
   ]
  },
  {
   "cell_type": "markdown",
   "metadata": {
    "pycharm": {
     "name": "#%% md\n"
    }
   },
   "source": [
    "### Лаги по продажам"
   ]
  },
  {
   "cell_type": "code",
   "execution_count": 12,
   "metadata": {},
   "outputs": [
    {
     "name": "stderr",
     "output_type": "stream",
     "text": [
      "[2020-06-22 11:13:20,427] INFO: Use cache.\n"
     ]
    }
   ],
   "source": [
    "sold_lag_features = ['sold_shift_28', 'sold_shift_42', 'sold_shift_56']\n",
    "cache_sold_lag_path = 'data/cache/sold_lag.jbl'\n",
    "\n",
    "if os.path.isfile(cache_sold_lag_path):\n",
    "    logging.info('Use cache.')\n",
    "    sold_lag = joblib.load(cache_sold_lag_path)[sold_lag_features]\n",
    "    ds = pd.concat([ds, sold_lag], axis=1)\n",
    "else:\n",
    "    logging.info('Re-build sold lag features.')\n",
    "    group_by_id = ds.groupby('id')\n",
    "    for lag in tqdm([28, 42, 56]):\n",
    "        ds[f'sold_shift_{lag}'] = group_by_id['sell_price'].transform(lambda x: x.shift(lag)).astype(np.float16)\n",
    "        \n",
    "    logging.info(f'Save to: {cache_sold_lag_path}')\n",
    "    joblib.dump(ds[ID_COLUMNS + sold_lag_features], cache_sold_lag_path)"
   ]
  },
  {
   "cell_type": "code",
   "execution_count": 13,
   "metadata": {},
   "outputs": [
    {
     "data": {
      "text/plain": [
       "22"
      ]
     },
     "execution_count": 13,
     "metadata": {},
     "output_type": "execute_result"
    }
   ],
   "source": [
    "del sold_lag\n",
    "gc.collect()"
   ]
  },
  {
   "cell_type": "markdown",
   "metadata": {
    "pycharm": {
     "name": "#%% md\n"
    }
   },
   "source": [
    "### Лаги по ценам"
   ]
  },
  {
   "cell_type": "code",
   "execution_count": 14,
   "metadata": {},
   "outputs": [
    {
     "name": "stderr",
     "output_type": "stream",
     "text": [
      "[2020-06-22 11:13:48,188] INFO: Use cache.\n"
     ]
    }
   ],
   "source": [
    "cache_price_path = 'data/cache/price_fratures.jbl'\n",
    "price_features_col = []\n",
    "for lag in [1, 3, 7, 28]:\n",
    "    price_features_col.append(f'price_shift_{lag}')\n",
    "    price_features_col.append(f'price_diff_{lag}')\n",
    "\n",
    "if os.path.isfile(cache_price_path):\n",
    "    logging.info('Use cache.')\n",
    "    price_features = joblib.load(cache_price_path)[price_features_col]\n",
    "    ds = pd.concat([ds, price_features], axis=1)\n",
    "else:\n",
    "    logging.info('Re-building price features.')\n",
    "    group_by_id = ds.groupby('id')\n",
    "    for lag in tqdm([1, 3, 7, 28]):\n",
    "        ds[f'price_shift_{lag}'] = group_by_id['sell_price'].transform(lambda x: x.shift(lag)).astype(np.float16)\n",
    "        ds[f'price_diff_{lag}'] = group_by_id['sell_price'].transform(lambda x: x.diff(lag)).astype(np.float16)\n",
    "    \n",
    "    logging.info(f'Save to: {cache_price_path}')\n",
    "    joblib.dump(ds[ID_COLUMNS + price_features_col], cache_price_path)"
   ]
  },
  {
   "cell_type": "code",
   "execution_count": 15,
   "metadata": {},
   "outputs": [
    {
     "data": {
      "text/plain": [
       "22"
      ]
     },
     "execution_count": 15,
     "metadata": {},
     "output_type": "execute_result"
    }
   ],
   "source": [
    "del price_features\n",
    "gc.collect()"
   ]
  },
  {
   "cell_type": "markdown",
   "metadata": {
    "pycharm": {
     "name": "#%% md\n"
    }
   },
   "source": [
    "### Подсчет таргетов (разные лаги)"
   ]
  },
  {
   "cell_type": "code",
   "execution_count": 16,
   "metadata": {},
   "outputs": [
    {
     "name": "stderr",
     "output_type": "stream",
     "text": [
      "[2020-06-22 11:14:43,429] INFO: Use cache.\n"
     ]
    },
    {
     "data": {
      "text/plain": [
       "0"
      ]
     },
     "execution_count": 16,
     "metadata": {},
     "output_type": "execute_result"
    }
   ],
   "source": [
    "targets_shift_col = [f'target_{lag}' for lag in range(0, 28)]\n",
    "target_lag_path = 'data/cache/target_lag.jbl'\n",
    "\n",
    "if os.path.isfile(target_lag_path):\n",
    "    logging.info('Use cache.')\n",
    "    targets_shift = joblib.load(target_lag_path)[targets_shift_col]\n",
    "    ds = pd.concat([ds, targets_shift], axis=1)\n",
    "else:\n",
    "    logging.info('Re-build sold lag features.')\n",
    "    group_by_id = ds.sort_values(by='d')[['id', 'target_sold']].groupby('id')\n",
    "    for lag in tqdm(range(0, 28)):\n",
    "        ds[f'target_{lag}'] = group_by_id['target_sold'].transform(lambda x: x.shift(-lag))\n",
    "        \n",
    "    logging.info(f'Save to: {target_lag_path}')\n",
    "    joblib.dump(ds[ID_COLUMNS + targets_shift_col], target_lag_path)"
   ]
  },
  {
   "cell_type": "markdown",
   "metadata": {
    "pycharm": {
     "name": "#%% md\n"
    }
   },
   "source": [
    "### Снижение размерности данных для экономии памяти"
   ]
  },
  {
   "cell_type": "code",
   "execution_count": 32,
   "metadata": {},
   "outputs": [
    {
     "name": "stderr",
     "output_type": "stream",
     "text": [
      "100%|██████████| 137/137 [05:03<00:00,  2.22s/it]\n"
     ]
    }
   ],
   "source": [
    "ds = downcast(ds)"
   ]
  },
  {
   "cell_type": "code",
   "execution_count": null,
   "metadata": {
    "pycharm": {
     "name": "#%%\n"
    }
   },
   "outputs": [],
   "source": [
    "# joblib.dump(ds, 'data/cache/ds_with_features.jbl')"
   ]
  },
  {
   "cell_type": "markdown",
   "metadata": {
    "pycharm": {
     "name": "#%% md\n"
    }
   },
   "source": [
    "# Обучение модели"
   ]
  },
  {
   "cell_type": "code",
   "execution_count": 33,
   "metadata": {
    "pycharm": {
     "name": "#%%\n"
    }
   },
   "outputs": [],
   "source": [
    "ds['event_type_1'] = ds['event_type_1'].cat.add_categories('NaN').fillna('NaN')\n",
    "ds['event_name_1'] = ds['event_name_1'].cat.add_categories('NaN').fillna('NaN')\n",
    "ds['event_type_2'] = ds['event_type_2'].cat.add_categories('NaN').fillna('NaN')\n",
    "ds['event_name_2'] = ds['event_name_2'].cat.add_categories('NaN').fillna('NaN')"
   ]
  },
  {
   "cell_type": "code",
   "execution_count": 34,
   "metadata": {},
   "outputs": [],
   "source": [
    "CATEGORICAL_FEATURES = [\n",
    "    'item_id', 'dept_id','store_id', 'cat_id', 'state_id',\n",
    "    'weekday',\n",
    "    'event_name_1', 'event_name_2', 'event_type_1', 'event_type_2',\n",
    "    'snap_CA', 'snap_TX', 'snap_WI',\n",
    "]\n",
    "\n",
    "NUMERICAL_FEATURES = [\n",
    "    'sell_price'\n",
    "]+ sold_lag_features + price_features_col + stats_feature \n",
    "\n",
    "XS = CATEGORICAL_FEATURES + NUMERICAL_FEATURES\n",
    "TARGET = 'target_sold'"
   ]
  },
  {
   "cell_type": "code",
   "execution_count": 49,
   "metadata": {},
   "outputs": [],
   "source": [
    "train_ds = ds[(ds['d'] < 1366)]# & (ds['use_for_train_v2'])]\n",
    "val_ds = ds[ds['d'] >= 1914]\n",
    "train = train_ds[XS + targets_shift_col].dropna()\n",
    "val = val_ds[XS + targets_shift_col].dropna()"
   ]
  },
  {
   "cell_type": "code",
   "execution_count": 50,
   "metadata": {},
   "outputs": [
    {
     "data": {
      "text/plain": [
       "((27787064, 125), (30490, 125))"
      ]
     },
     "execution_count": 50,
     "metadata": {},
     "output_type": "execute_result"
    }
   ],
   "source": [
    "train.shape, val.shape"
   ]
  },
  {
   "cell_type": "code",
   "execution_count": null,
   "outputs": [],
   "source": [
    "params = {\n",
    "    'objective': 'poisson',\n",
    "    'num_iterations': 2000,\n",
    "    'learning_rate': 0.1,\n",
    "    'verbose': 20,\n",
    "    'bagging_fraction': 0.5,\n",
    "    'feature_fraction': 0.7,\n",
    "    'metric': ['rmse']\n",
    "}"
   ],
   "metadata": {
    "collapsed": false,
    "pycharm": {
     "name": "#%%\n"
    }
   }
  },
  {
   "cell_type": "code",
   "execution_count": null,
   "outputs": [],
   "source": [
    "from datetime import datetime"
   ],
   "metadata": {
    "collapsed": false,
    "pycharm": {
     "name": "#%%\n"
    }
   }
  },
  {
   "cell_type": "code",
   "execution_count": null,
   "outputs": [],
   "source": [
    "models = {}\n",
    "field = 'dept_id'\n",
    "for idx_ in ds[field].unique().tolist():\n",
    "    logging.info(f'Train with {field} = {idx_}')\n",
    "    \n",
    "    cat_train = train_ds[train_ds[field] == idx_]\n",
    "    cat_train = cat_train[XS + [TARGET]].dropna()\n",
    "    cat_val = val_ds[val_ds[field] == idx_]\n",
    "    cat_val = cat_val[XS + [TARGET]].dropna()\n",
    "    logging.debug(f'Shape of train set: {cat_train.shape}')\n",
    "    logging.debug(f'Shape of valid set: {cat_val.shape}')\n",
    "\n",
    "    cat_train_set = lgb.Dataset(cat_train[XS], cat_train[TARGET])\n",
    "    cat_valid_set = lgb.Dataset(cat_val[XS], cat_val[TARGET])\n",
    "\n",
    "    logging.info('Starting model train')\n",
    "    evals_result = {}\n",
    "    model = lgb.train(\n",
    "        params,\n",
    "        train_set=cat_train_set,\n",
    "        valid_sets=[cat_train_set, cat_valid_set],\n",
    "        early_stopping_rounds=10,\n",
    "        categorical_feature=CATEGORICAL_FEATURES,\n",
    "        evals_result=evals_result,\n",
    "        verbose_eval=20 \n",
    "    )\n",
    "    models[idx_] = {\n",
    "        'model': model,\n",
    "        'evals_result': evals_result\n",
    "    }\n",
    "    logging.info('The model is trained')"
   ],
   "metadata": {
    "collapsed": false,
    "pycharm": {
     "name": "#%%\n"
    }
   }
  },
  {
   "cell_type": "code",
   "execution_count": null,
   "outputs": [],
   "source": [
    "val_pred = val_ds.copy()\n",
    "for idx_, model_dict in models.items():\n",
    "#     print(idx_)\n",
    "    model = model_dict['model']\n",
    "    \n",
    "    data_for_predict = val_pred.loc[val_pred[field] == idx_]\n",
    "    \n",
    "    predict = model.predict(data_for_predict[XS])\n",
    "    val_pred.loc[val_pred[field] == idx_, 'sold_predict'] = predict\n",
    "\n",
    "val_pred['d'] = val_pred.d.apply(lambda x: f'd_{x}')\n",
    "val_pred = val_pred.pivot(index='id', columns='d', values='sold_predict')\n",
    "val_pred = val_ds[ID_COLUMNS].drop_duplicates().merge(val_pred, on='id')\n",
    "print('WRMSSE: ', metric.score(val_pred))"
   ],
   "metadata": {
    "collapsed": false,
    "pycharm": {
     "name": "#%%\n"
    }
   }
  },
  {
   "cell_type": "markdown",
   "source": [
    "# Просмотр важности фичей"
   ],
   "metadata": {
    "collapsed": false
   }
  },
  {
   "cell_type": "code",
   "execution_count": null,
   "outputs": [],
   "source": [
    "feature_importances = pd.DataFrame(\n",
    "    sorted(\n",
    "        sorted(zip(model.feature_importance(importance_type='gain'), model.feature_name()))\n",
    "    ),\n",
    "    columns=['values', 'names']\n",
    ")\n",
    "feature_importances = feature_importances.sort_values(by='values', ascending=False)"
   ],
   "metadata": {
    "collapsed": false,
    "pycharm": {
     "name": "#%%\n"
    }
   }
  },
  {
   "cell_type": "code",
   "execution_count": null,
   "outputs": [],
   "source": [
    "feature_importances.sort_values(by='values')"
   ],
   "metadata": {
    "collapsed": false,
    "pycharm": {
     "name": "#%%\n"
    }
   }
  },
  {
   "cell_type": "code",
   "execution_count": null,
   "outputs": [],
   "source": [
    "plt.figure(figsize=(15, 10))\n",
    "sns.barplot(x='values', y='names', data=feature_importances.head(50))\n",
    "plt.title('Общий график значимости ТОП-50 признаков (LightGBM gain)')\n",
    "plt.ylabel('Название признака')\n",
    "plt.xlabel('Важность (Gain)')\n",
    "plt.show()"
   ],
   "metadata": {
    "collapsed": false,
    "pycharm": {
     "name": "#%%\n"
    }
   }
  },
  {
   "cell_type": "markdown",
   "source": [
    "# Подготовка \"станартного\" вида валидации"
   ],
   "metadata": {
    "collapsed": false
   }
  },
  {
   "cell_type": "markdown",
   "source": [
    "# Отправка сабмита"
   ],
   "metadata": {
    "collapsed": false
   }
  },
  {
   "cell_type": "code",
   "execution_count": null,
   "outputs": [],
   "source": [
    "submit_days = only_days_columns(val_pred)\n",
    "submit_evaluation = val_pred[['id'] + submit_days]\n",
    "submit_rename_dict = {\n",
    "    col: f'F{i}' \n",
    "    for i, col in enumerate(only_days_columns(submit_evaluation), start=1)\n",
    "}\n",
    "submit_evaluation = submit_evaluation.rename(columns=submit_rename_dict)\n",
    "\n",
    "submit_validation = submit_evaluation.copy()\n",
    "submit_validation['id'] = submit_validation.id.str.replace('evaluation', 'validation')\n",
    "\n",
    "submit = pd.concat([submit_evaluation, submit_validation])"
   ],
   "metadata": {
    "collapsed": false,
    "pycharm": {
     "name": "#%%\n"
    }
   }
  },
  {
   "cell_type": "code",
   "execution_count": null,
   "outputs": [],
   "source": [
    "submit.to_csv('submit.csv', index=False)"
   ],
   "metadata": {
    "collapsed": false,
    "pycharm": {
     "name": "#%%\n"
    }
   }
  },
  {
   "cell_type": "code",
   "execution_count": null,
   "outputs": [],
   "source": [
    "!kaggle competitions submit -c m5-forecasting-accuracy -f submit.csv -m \"Test price\""
   ],
   "metadata": {
    "collapsed": false,
    "pycharm": {
     "name": "#%%\n"
    }
   }
  },
  {
   "cell_type": "code",
   "execution_count": 83,
   "metadata": {},
   "outputs": [],
   "source": [
    "!kaggle competitions submit -c m5-forecasting-accuracy -f submit.csv -m \"Test price\""
   ]
  },
  {
   "cell_type": "code",
   "execution_count": 79,
   "metadata": {},
   "outputs": [],
   "source": [
    "from datetime import datetime"
   ]
  },
  {
   "cell_type": "code",
   "execution_count": 92,
   "metadata": {},
   "outputs": [
    {
     "name": "stderr",
     "output_type": "stream",
     "text": [
      "[2020-06-22 10:30:39,097] INFO: Train with constant_id = 0\n"
     ]
    },
    {
     "ename": "KeyboardInterrupt",
     "evalue": "",
     "output_type": "error",
     "traceback": [
      "\u001B[0;31m---------------------------------------------------------------------------\u001B[0m",
      "\u001B[0;31mKeyboardInterrupt\u001B[0m                         Traceback (most recent call last)",
      "\u001B[0;32m<ipython-input-92-0cdeae1fca6e>\u001B[0m in \u001B[0;36m<module>\u001B[0;34m\u001B[0m\n\u001B[1;32m      5\u001B[0m \u001B[0;34m\u001B[0m\u001B[0m\n\u001B[1;32m      6\u001B[0m     \u001B[0mcat_train\u001B[0m \u001B[0;34m=\u001B[0m \u001B[0mtrain_ds\u001B[0m\u001B[0;34m[\u001B[0m\u001B[0mtrain_ds\u001B[0m\u001B[0;34m[\u001B[0m\u001B[0mfield\u001B[0m\u001B[0;34m]\u001B[0m \u001B[0;34m==\u001B[0m \u001B[0midx_\u001B[0m\u001B[0;34m]\u001B[0m\u001B[0;34m\u001B[0m\u001B[0;34m\u001B[0m\u001B[0m\n\u001B[0;32m----> 7\u001B[0;31m     \u001B[0mcat_train\u001B[0m \u001B[0;34m=\u001B[0m \u001B[0mcat_train\u001B[0m\u001B[0;34m[\u001B[0m\u001B[0mXS\u001B[0m \u001B[0;34m+\u001B[0m \u001B[0;34m[\u001B[0m\u001B[0mTARGET\u001B[0m\u001B[0;34m]\u001B[0m\u001B[0;34m]\u001B[0m\u001B[0;34m.\u001B[0m\u001B[0mdropna\u001B[0m\u001B[0;34m(\u001B[0m\u001B[0;34m)\u001B[0m\u001B[0;34m\u001B[0m\u001B[0;34m\u001B[0m\u001B[0m\n\u001B[0m\u001B[1;32m      8\u001B[0m     \u001B[0mcat_val\u001B[0m \u001B[0;34m=\u001B[0m \u001B[0mval_ds\u001B[0m\u001B[0;34m[\u001B[0m\u001B[0mval_ds\u001B[0m\u001B[0;34m[\u001B[0m\u001B[0mfield\u001B[0m\u001B[0;34m]\u001B[0m \u001B[0;34m==\u001B[0m \u001B[0midx_\u001B[0m\u001B[0;34m]\u001B[0m\u001B[0;34m\u001B[0m\u001B[0;34m\u001B[0m\u001B[0m\n\u001B[1;32m      9\u001B[0m     \u001B[0mcat_val\u001B[0m \u001B[0;34m=\u001B[0m \u001B[0mcat_val\u001B[0m\u001B[0;34m[\u001B[0m\u001B[0mXS\u001B[0m \u001B[0;34m+\u001B[0m \u001B[0;34m[\u001B[0m\u001B[0mTARGET\u001B[0m\u001B[0;34m]\u001B[0m\u001B[0;34m]\u001B[0m\u001B[0;34m.\u001B[0m\u001B[0mdropna\u001B[0m\u001B[0;34m(\u001B[0m\u001B[0;34m)\u001B[0m\u001B[0;34m\u001B[0m\u001B[0;34m\u001B[0m\u001B[0m\n",
      "\u001B[0;32m~/projects/m5/.venv/lib/python3.7/site-packages/pandas/core/frame.py\u001B[0m in \u001B[0;36mdropna\u001B[0;34m(self, axis, how, thresh, subset, inplace)\u001B[0m\n\u001B[1;32m   4763\u001B[0m                 \u001B[0;32mraise\u001B[0m \u001B[0mTypeError\u001B[0m\u001B[0;34m(\u001B[0m\u001B[0;34m\"must specify how or thresh\"\u001B[0m\u001B[0;34m)\u001B[0m\u001B[0;34m\u001B[0m\u001B[0;34m\u001B[0m\u001B[0m\n\u001B[1;32m   4764\u001B[0m \u001B[0;34m\u001B[0m\u001B[0m\n\u001B[0;32m-> 4765\u001B[0;31m         \u001B[0mresult\u001B[0m \u001B[0;34m=\u001B[0m \u001B[0mself\u001B[0m\u001B[0;34m.\u001B[0m\u001B[0mloc\u001B[0m\u001B[0;34m(\u001B[0m\u001B[0maxis\u001B[0m\u001B[0;34m=\u001B[0m\u001B[0maxis\u001B[0m\u001B[0;34m)\u001B[0m\u001B[0;34m[\u001B[0m\u001B[0mmask\u001B[0m\u001B[0;34m]\u001B[0m\u001B[0;34m\u001B[0m\u001B[0;34m\u001B[0m\u001B[0m\n\u001B[0m\u001B[1;32m   4766\u001B[0m \u001B[0;34m\u001B[0m\u001B[0m\n\u001B[1;32m   4767\u001B[0m         \u001B[0;32mif\u001B[0m \u001B[0minplace\u001B[0m\u001B[0;34m:\u001B[0m\u001B[0;34m\u001B[0m\u001B[0;34m\u001B[0m\u001B[0m\n",
      "\u001B[0;32m~/projects/m5/.venv/lib/python3.7/site-packages/pandas/core/indexing.py\u001B[0m in \u001B[0;36m__getitem__\u001B[0;34m(self, key)\u001B[0m\n\u001B[1;32m   1766\u001B[0m \u001B[0;34m\u001B[0m\u001B[0m\n\u001B[1;32m   1767\u001B[0m             \u001B[0mmaybe_callable\u001B[0m \u001B[0;34m=\u001B[0m \u001B[0mcom\u001B[0m\u001B[0;34m.\u001B[0m\u001B[0mapply_if_callable\u001B[0m\u001B[0;34m(\u001B[0m\u001B[0mkey\u001B[0m\u001B[0;34m,\u001B[0m \u001B[0mself\u001B[0m\u001B[0;34m.\u001B[0m\u001B[0mobj\u001B[0m\u001B[0;34m)\u001B[0m\u001B[0;34m\u001B[0m\u001B[0;34m\u001B[0m\u001B[0m\n\u001B[0;32m-> 1768\u001B[0;31m             \u001B[0;32mreturn\u001B[0m \u001B[0mself\u001B[0m\u001B[0;34m.\u001B[0m\u001B[0m_getitem_axis\u001B[0m\u001B[0;34m(\u001B[0m\u001B[0mmaybe_callable\u001B[0m\u001B[0;34m,\u001B[0m \u001B[0maxis\u001B[0m\u001B[0;34m=\u001B[0m\u001B[0maxis\u001B[0m\u001B[0;34m)\u001B[0m\u001B[0;34m\u001B[0m\u001B[0;34m\u001B[0m\u001B[0m\n\u001B[0m\u001B[1;32m   1769\u001B[0m \u001B[0;34m\u001B[0m\u001B[0m\n\u001B[1;32m   1770\u001B[0m     \u001B[0;32mdef\u001B[0m \u001B[0m_is_scalar_access\u001B[0m\u001B[0;34m(\u001B[0m\u001B[0mself\u001B[0m\u001B[0;34m,\u001B[0m \u001B[0mkey\u001B[0m\u001B[0;34m:\u001B[0m \u001B[0mTuple\u001B[0m\u001B[0;34m)\u001B[0m\u001B[0;34m:\u001B[0m\u001B[0;34m\u001B[0m\u001B[0;34m\u001B[0m\u001B[0m\n",
      "\u001B[0;32m~/projects/m5/.venv/lib/python3.7/site-packages/pandas/core/indexing.py\u001B[0m in \u001B[0;36m_getitem_axis\u001B[0;34m(self, key, axis)\u001B[0m\n\u001B[1;32m   1912\u001B[0m             \u001B[0;32mreturn\u001B[0m \u001B[0mself\u001B[0m\u001B[0;34m.\u001B[0m\u001B[0m_get_slice_axis\u001B[0m\u001B[0;34m(\u001B[0m\u001B[0mkey\u001B[0m\u001B[0;34m,\u001B[0m \u001B[0maxis\u001B[0m\u001B[0;34m=\u001B[0m\u001B[0maxis\u001B[0m\u001B[0;34m)\u001B[0m\u001B[0;34m\u001B[0m\u001B[0;34m\u001B[0m\u001B[0m\n\u001B[1;32m   1913\u001B[0m         \u001B[0;32melif\u001B[0m \u001B[0mcom\u001B[0m\u001B[0;34m.\u001B[0m\u001B[0mis_bool_indexer\u001B[0m\u001B[0;34m(\u001B[0m\u001B[0mkey\u001B[0m\u001B[0;34m)\u001B[0m\u001B[0;34m:\u001B[0m\u001B[0;34m\u001B[0m\u001B[0;34m\u001B[0m\u001B[0m\n\u001B[0;32m-> 1914\u001B[0;31m             \u001B[0;32mreturn\u001B[0m \u001B[0mself\u001B[0m\u001B[0;34m.\u001B[0m\u001B[0m_getbool_axis\u001B[0m\u001B[0;34m(\u001B[0m\u001B[0mkey\u001B[0m\u001B[0;34m,\u001B[0m \u001B[0maxis\u001B[0m\u001B[0;34m=\u001B[0m\u001B[0maxis\u001B[0m\u001B[0;34m)\u001B[0m\u001B[0;34m\u001B[0m\u001B[0;34m\u001B[0m\u001B[0m\n\u001B[0m\u001B[1;32m   1915\u001B[0m         \u001B[0;32melif\u001B[0m \u001B[0mis_list_like_indexer\u001B[0m\u001B[0;34m(\u001B[0m\u001B[0mkey\u001B[0m\u001B[0;34m)\u001B[0m\u001B[0;34m:\u001B[0m\u001B[0;34m\u001B[0m\u001B[0;34m\u001B[0m\u001B[0m\n\u001B[1;32m   1916\u001B[0m \u001B[0;34m\u001B[0m\u001B[0m\n",
      "\u001B[0;32m~/projects/m5/.venv/lib/python3.7/site-packages/pandas/core/indexing.py\u001B[0m in \u001B[0;36m_getbool_axis\u001B[0;34m(self, key, axis)\u001B[0m\n\u001B[1;32m   1782\u001B[0m         \u001B[0mkey\u001B[0m \u001B[0;34m=\u001B[0m \u001B[0mcheck_bool_indexer\u001B[0m\u001B[0;34m(\u001B[0m\u001B[0mlabels\u001B[0m\u001B[0;34m,\u001B[0m \u001B[0mkey\u001B[0m\u001B[0;34m)\u001B[0m\u001B[0;34m\u001B[0m\u001B[0;34m\u001B[0m\u001B[0m\n\u001B[1;32m   1783\u001B[0m         \u001B[0minds\u001B[0m \u001B[0;34m=\u001B[0m \u001B[0mkey\u001B[0m\u001B[0;34m.\u001B[0m\u001B[0mnonzero\u001B[0m\u001B[0;34m(\u001B[0m\u001B[0;34m)\u001B[0m\u001B[0;34m[\u001B[0m\u001B[0;36m0\u001B[0m\u001B[0;34m]\u001B[0m\u001B[0;34m\u001B[0m\u001B[0;34m\u001B[0m\u001B[0m\n\u001B[0;32m-> 1784\u001B[0;31m         \u001B[0;32mreturn\u001B[0m \u001B[0mself\u001B[0m\u001B[0;34m.\u001B[0m\u001B[0mobj\u001B[0m\u001B[0;34m.\u001B[0m\u001B[0m_take_with_is_copy\u001B[0m\u001B[0;34m(\u001B[0m\u001B[0minds\u001B[0m\u001B[0;34m,\u001B[0m \u001B[0maxis\u001B[0m\u001B[0;34m=\u001B[0m\u001B[0maxis\u001B[0m\u001B[0;34m)\u001B[0m\u001B[0;34m\u001B[0m\u001B[0;34m\u001B[0m\u001B[0m\n\u001B[0m\u001B[1;32m   1785\u001B[0m \u001B[0;34m\u001B[0m\u001B[0m\n\u001B[1;32m   1786\u001B[0m     \u001B[0;32mdef\u001B[0m \u001B[0m_get_slice_axis\u001B[0m\u001B[0;34m(\u001B[0m\u001B[0mself\u001B[0m\u001B[0;34m,\u001B[0m \u001B[0mslice_obj\u001B[0m\u001B[0;34m:\u001B[0m \u001B[0mslice\u001B[0m\u001B[0;34m,\u001B[0m \u001B[0maxis\u001B[0m\u001B[0;34m:\u001B[0m \u001B[0mint\u001B[0m\u001B[0;34m)\u001B[0m\u001B[0;34m:\u001B[0m\u001B[0;34m\u001B[0m\u001B[0;34m\u001B[0m\u001B[0m\n",
      "\u001B[0;32m~/projects/m5/.venv/lib/python3.7/site-packages/pandas/core/generic.py\u001B[0m in \u001B[0;36m_take_with_is_copy\u001B[0;34m(self, indices, axis, **kwargs)\u001B[0m\n\u001B[1;32m   3407\u001B[0m         \u001B[0mSee\u001B[0m \u001B[0mthe\u001B[0m \u001B[0mdocstring\u001B[0m \u001B[0mof\u001B[0m\u001B[0;31m \u001B[0m\u001B[0;31m`\u001B[0m\u001B[0mtake\u001B[0m\u001B[0;31m`\u001B[0m \u001B[0;32mfor\u001B[0m \u001B[0mfull\u001B[0m \u001B[0mexplanation\u001B[0m \u001B[0mof\u001B[0m \u001B[0mthe\u001B[0m \u001B[0mparameters\u001B[0m\u001B[0;34m.\u001B[0m\u001B[0;34m\u001B[0m\u001B[0;34m\u001B[0m\u001B[0m\n\u001B[1;32m   3408\u001B[0m         \"\"\"\n\u001B[0;32m-> 3409\u001B[0;31m         \u001B[0mresult\u001B[0m \u001B[0;34m=\u001B[0m \u001B[0mself\u001B[0m\u001B[0;34m.\u001B[0m\u001B[0mtake\u001B[0m\u001B[0;34m(\u001B[0m\u001B[0mindices\u001B[0m\u001B[0;34m=\u001B[0m\u001B[0mindices\u001B[0m\u001B[0;34m,\u001B[0m \u001B[0maxis\u001B[0m\u001B[0;34m=\u001B[0m\u001B[0maxis\u001B[0m\u001B[0;34m,\u001B[0m \u001B[0;34m**\u001B[0m\u001B[0mkwargs\u001B[0m\u001B[0;34m)\u001B[0m\u001B[0;34m\u001B[0m\u001B[0;34m\u001B[0m\u001B[0m\n\u001B[0m\u001B[1;32m   3410\u001B[0m         \u001B[0;31m# Maybe set copy if we didn't actually change the index.\u001B[0m\u001B[0;34m\u001B[0m\u001B[0;34m\u001B[0m\u001B[0;34m\u001B[0m\u001B[0m\n\u001B[1;32m   3411\u001B[0m         \u001B[0;32mif\u001B[0m \u001B[0;32mnot\u001B[0m \u001B[0mresult\u001B[0m\u001B[0;34m.\u001B[0m\u001B[0m_get_axis\u001B[0m\u001B[0;34m(\u001B[0m\u001B[0maxis\u001B[0m\u001B[0;34m)\u001B[0m\u001B[0;34m.\u001B[0m\u001B[0mequals\u001B[0m\u001B[0;34m(\u001B[0m\u001B[0mself\u001B[0m\u001B[0;34m.\u001B[0m\u001B[0m_get_axis\u001B[0m\u001B[0;34m(\u001B[0m\u001B[0maxis\u001B[0m\u001B[0;34m)\u001B[0m\u001B[0;34m)\u001B[0m\u001B[0;34m:\u001B[0m\u001B[0;34m\u001B[0m\u001B[0;34m\u001B[0m\u001B[0m\n",
      "\u001B[0;32m~/projects/m5/.venv/lib/python3.7/site-packages/pandas/core/generic.py\u001B[0m in \u001B[0;36mtake\u001B[0;34m(self, indices, axis, is_copy, **kwargs)\u001B[0m\n\u001B[1;32m   3393\u001B[0m \u001B[0;34m\u001B[0m\u001B[0m\n\u001B[1;32m   3394\u001B[0m         new_data = self._data.take(\n\u001B[0;32m-> 3395\u001B[0;31m             \u001B[0mindices\u001B[0m\u001B[0;34m,\u001B[0m \u001B[0maxis\u001B[0m\u001B[0;34m=\u001B[0m\u001B[0mself\u001B[0m\u001B[0;34m.\u001B[0m\u001B[0m_get_block_manager_axis\u001B[0m\u001B[0;34m(\u001B[0m\u001B[0maxis\u001B[0m\u001B[0;34m)\u001B[0m\u001B[0;34m,\u001B[0m \u001B[0mverify\u001B[0m\u001B[0;34m=\u001B[0m\u001B[0;32mTrue\u001B[0m\u001B[0;34m\u001B[0m\u001B[0;34m\u001B[0m\u001B[0m\n\u001B[0m\u001B[1;32m   3396\u001B[0m         )\n\u001B[1;32m   3397\u001B[0m         \u001B[0;32mreturn\u001B[0m \u001B[0mself\u001B[0m\u001B[0;34m.\u001B[0m\u001B[0m_constructor\u001B[0m\u001B[0;34m(\u001B[0m\u001B[0mnew_data\u001B[0m\u001B[0;34m)\u001B[0m\u001B[0;34m.\u001B[0m\u001B[0m__finalize__\u001B[0m\u001B[0;34m(\u001B[0m\u001B[0mself\u001B[0m\u001B[0;34m)\u001B[0m\u001B[0;34m\u001B[0m\u001B[0;34m\u001B[0m\u001B[0m\n",
      "\u001B[0;32m~/projects/m5/.venv/lib/python3.7/site-packages/pandas/core/internals/managers.py\u001B[0m in \u001B[0;36mtake\u001B[0;34m(self, indexer, axis, verify, convert)\u001B[0m\n\u001B[1;32m   1392\u001B[0m         \u001B[0mnew_labels\u001B[0m \u001B[0;34m=\u001B[0m \u001B[0mself\u001B[0m\u001B[0;34m.\u001B[0m\u001B[0maxes\u001B[0m\u001B[0;34m[\u001B[0m\u001B[0maxis\u001B[0m\u001B[0;34m]\u001B[0m\u001B[0;34m.\u001B[0m\u001B[0mtake\u001B[0m\u001B[0;34m(\u001B[0m\u001B[0mindexer\u001B[0m\u001B[0;34m)\u001B[0m\u001B[0;34m\u001B[0m\u001B[0;34m\u001B[0m\u001B[0m\n\u001B[1;32m   1393\u001B[0m         return self.reindex_indexer(\n\u001B[0;32m-> 1394\u001B[0;31m             \u001B[0mnew_axis\u001B[0m\u001B[0;34m=\u001B[0m\u001B[0mnew_labels\u001B[0m\u001B[0;34m,\u001B[0m \u001B[0mindexer\u001B[0m\u001B[0;34m=\u001B[0m\u001B[0mindexer\u001B[0m\u001B[0;34m,\u001B[0m \u001B[0maxis\u001B[0m\u001B[0;34m=\u001B[0m\u001B[0maxis\u001B[0m\u001B[0;34m,\u001B[0m \u001B[0mallow_dups\u001B[0m\u001B[0;34m=\u001B[0m\u001B[0;32mTrue\u001B[0m\u001B[0;34m\u001B[0m\u001B[0;34m\u001B[0m\u001B[0m\n\u001B[0m\u001B[1;32m   1395\u001B[0m         )\n\u001B[1;32m   1396\u001B[0m \u001B[0;34m\u001B[0m\u001B[0m\n",
      "\u001B[0;32m~/projects/m5/.venv/lib/python3.7/site-packages/pandas/core/internals/managers.py\u001B[0m in \u001B[0;36mreindex_indexer\u001B[0;34m(self, new_axis, indexer, axis, fill_value, allow_dups, copy)\u001B[0m\n\u001B[1;32m   1265\u001B[0m                     ),\n\u001B[1;32m   1266\u001B[0m                 )\n\u001B[0;32m-> 1267\u001B[0;31m                 \u001B[0;32mfor\u001B[0m \u001B[0mblk\u001B[0m \u001B[0;32min\u001B[0m \u001B[0mself\u001B[0m\u001B[0;34m.\u001B[0m\u001B[0mblocks\u001B[0m\u001B[0;34m\u001B[0m\u001B[0;34m\u001B[0m\u001B[0m\n\u001B[0m\u001B[1;32m   1268\u001B[0m             ]\n\u001B[1;32m   1269\u001B[0m \u001B[0;34m\u001B[0m\u001B[0m\n",
      "\u001B[0;32m~/projects/m5/.venv/lib/python3.7/site-packages/pandas/core/internals/managers.py\u001B[0m in \u001B[0;36m<listcomp>\u001B[0;34m(.0)\u001B[0m\n\u001B[1;32m   1265\u001B[0m                     ),\n\u001B[1;32m   1266\u001B[0m                 )\n\u001B[0;32m-> 1267\u001B[0;31m                 \u001B[0;32mfor\u001B[0m \u001B[0mblk\u001B[0m \u001B[0;32min\u001B[0m \u001B[0mself\u001B[0m\u001B[0;34m.\u001B[0m\u001B[0mblocks\u001B[0m\u001B[0;34m\u001B[0m\u001B[0;34m\u001B[0m\u001B[0m\n\u001B[0m\u001B[1;32m   1268\u001B[0m             ]\n\u001B[1;32m   1269\u001B[0m \u001B[0;34m\u001B[0m\u001B[0m\n",
      "\u001B[0;32m~/projects/m5/.venv/lib/python3.7/site-packages/pandas/core/internals/blocks.py\u001B[0m in \u001B[0;36mtake_nd\u001B[0;34m(self, indexer, axis, new_mgr_locs, fill_tuple)\u001B[0m\n\u001B[1;32m   1838\u001B[0m         \u001B[0;31m# but are passed the axis depending on the calling routing\u001B[0m\u001B[0;34m\u001B[0m\u001B[0;34m\u001B[0m\u001B[0;34m\u001B[0m\u001B[0m\n\u001B[1;32m   1839\u001B[0m         \u001B[0;31m# if its REALLY axis 0, then this will be a reindex and not a take\u001B[0m\u001B[0;34m\u001B[0m\u001B[0;34m\u001B[0m\u001B[0;34m\u001B[0m\u001B[0m\n\u001B[0;32m-> 1840\u001B[0;31m         \u001B[0mnew_values\u001B[0m \u001B[0;34m=\u001B[0m \u001B[0mself\u001B[0m\u001B[0;34m.\u001B[0m\u001B[0mvalues\u001B[0m\u001B[0;34m.\u001B[0m\u001B[0mtake\u001B[0m\u001B[0;34m(\u001B[0m\u001B[0mindexer\u001B[0m\u001B[0;34m,\u001B[0m \u001B[0mfill_value\u001B[0m\u001B[0;34m=\u001B[0m\u001B[0mfill_value\u001B[0m\u001B[0;34m,\u001B[0m \u001B[0mallow_fill\u001B[0m\u001B[0;34m=\u001B[0m\u001B[0;32mTrue\u001B[0m\u001B[0;34m)\u001B[0m\u001B[0;34m\u001B[0m\u001B[0;34m\u001B[0m\u001B[0m\n\u001B[0m\u001B[1;32m   1841\u001B[0m \u001B[0;34m\u001B[0m\u001B[0m\n\u001B[1;32m   1842\u001B[0m         \u001B[0;31m# Called from three places in managers, all of which satisfy\u001B[0m\u001B[0;34m\u001B[0m\u001B[0;34m\u001B[0m\u001B[0;34m\u001B[0m\u001B[0m\n",
      "\u001B[0;32m~/projects/m5/.venv/lib/python3.7/site-packages/pandas/core/arrays/categorical.py\u001B[0m in \u001B[0;36mtake\u001B[0;34m(self, indexer, allow_fill, fill_value)\u001B[0m\n\u001B[1;32m   1859\u001B[0m                 \u001B[0;32mraise\u001B[0m \u001B[0mTypeError\u001B[0m\u001B[0;34m(\u001B[0m\u001B[0mmsg\u001B[0m\u001B[0;34m)\u001B[0m\u001B[0;34m\u001B[0m\u001B[0;34m\u001B[0m\u001B[0m\n\u001B[1;32m   1860\u001B[0m \u001B[0;34m\u001B[0m\u001B[0m\n\u001B[0;32m-> 1861\u001B[0;31m         \u001B[0mcodes\u001B[0m \u001B[0;34m=\u001B[0m \u001B[0mtake\u001B[0m\u001B[0;34m(\u001B[0m\u001B[0mself\u001B[0m\u001B[0;34m.\u001B[0m\u001B[0m_codes\u001B[0m\u001B[0;34m,\u001B[0m \u001B[0mindexer\u001B[0m\u001B[0;34m,\u001B[0m \u001B[0mallow_fill\u001B[0m\u001B[0;34m=\u001B[0m\u001B[0mallow_fill\u001B[0m\u001B[0;34m,\u001B[0m \u001B[0mfill_value\u001B[0m\u001B[0;34m=\u001B[0m\u001B[0mfill_value\u001B[0m\u001B[0;34m)\u001B[0m\u001B[0;34m\u001B[0m\u001B[0;34m\u001B[0m\u001B[0m\n\u001B[0m\u001B[1;32m   1862\u001B[0m         \u001B[0mresult\u001B[0m \u001B[0;34m=\u001B[0m \u001B[0mtype\u001B[0m\u001B[0;34m(\u001B[0m\u001B[0mself\u001B[0m\u001B[0;34m)\u001B[0m\u001B[0;34m.\u001B[0m\u001B[0mfrom_codes\u001B[0m\u001B[0;34m(\u001B[0m\u001B[0mcodes\u001B[0m\u001B[0;34m,\u001B[0m \u001B[0mdtype\u001B[0m\u001B[0;34m=\u001B[0m\u001B[0mdtype\u001B[0m\u001B[0;34m)\u001B[0m\u001B[0;34m\u001B[0m\u001B[0;34m\u001B[0m\u001B[0m\n\u001B[1;32m   1863\u001B[0m         \u001B[0;32mreturn\u001B[0m \u001B[0mresult\u001B[0m\u001B[0;34m\u001B[0m\u001B[0;34m\u001B[0m\u001B[0m\n",
      "\u001B[0;32m~/projects/m5/.venv/lib/python3.7/site-packages/pandas/core/algorithms.py\u001B[0m in \u001B[0;36mtake\u001B[0;34m(arr, indices, axis, allow_fill, fill_value)\u001B[0m\n\u001B[1;32m   1555\u001B[0m         \u001B[0mvalidate_indices\u001B[0m\u001B[0;34m(\u001B[0m\u001B[0mindices\u001B[0m\u001B[0;34m,\u001B[0m \u001B[0marr\u001B[0m\u001B[0;34m.\u001B[0m\u001B[0mshape\u001B[0m\u001B[0;34m[\u001B[0m\u001B[0maxis\u001B[0m\u001B[0;34m]\u001B[0m\u001B[0;34m)\u001B[0m\u001B[0;34m\u001B[0m\u001B[0;34m\u001B[0m\u001B[0m\n\u001B[1;32m   1556\u001B[0m         result = take_1d(\n\u001B[0;32m-> 1557\u001B[0;31m             \u001B[0marr\u001B[0m\u001B[0;34m,\u001B[0m \u001B[0mindices\u001B[0m\u001B[0;34m,\u001B[0m \u001B[0maxis\u001B[0m\u001B[0;34m=\u001B[0m\u001B[0maxis\u001B[0m\u001B[0;34m,\u001B[0m \u001B[0mallow_fill\u001B[0m\u001B[0;34m=\u001B[0m\u001B[0;32mTrue\u001B[0m\u001B[0;34m,\u001B[0m \u001B[0mfill_value\u001B[0m\u001B[0;34m=\u001B[0m\u001B[0mfill_value\u001B[0m\u001B[0;34m\u001B[0m\u001B[0;34m\u001B[0m\u001B[0m\n\u001B[0m\u001B[1;32m   1558\u001B[0m         )\n\u001B[1;32m   1559\u001B[0m     \u001B[0;32melse\u001B[0m\u001B[0;34m:\u001B[0m\u001B[0;34m\u001B[0m\u001B[0;34m\u001B[0m\u001B[0m\n",
      "\u001B[0;32m~/projects/m5/.venv/lib/python3.7/site-packages/pandas/core/algorithms.py\u001B[0m in \u001B[0;36mtake_nd\u001B[0;34m(arr, indexer, axis, out, fill_value, allow_fill)\u001B[0m\n\u001B[1;32m   1660\u001B[0m         \u001B[0marr\u001B[0m\u001B[0;34m.\u001B[0m\u001B[0mndim\u001B[0m\u001B[0;34m,\u001B[0m \u001B[0marr\u001B[0m\u001B[0;34m.\u001B[0m\u001B[0mdtype\u001B[0m\u001B[0;34m,\u001B[0m \u001B[0mout\u001B[0m\u001B[0;34m.\u001B[0m\u001B[0mdtype\u001B[0m\u001B[0;34m,\u001B[0m \u001B[0maxis\u001B[0m\u001B[0;34m=\u001B[0m\u001B[0maxis\u001B[0m\u001B[0;34m,\u001B[0m \u001B[0mmask_info\u001B[0m\u001B[0;34m=\u001B[0m\u001B[0mmask_info\u001B[0m\u001B[0;34m\u001B[0m\u001B[0;34m\u001B[0m\u001B[0m\n\u001B[1;32m   1661\u001B[0m     )\n\u001B[0;32m-> 1662\u001B[0;31m     \u001B[0mfunc\u001B[0m\u001B[0;34m(\u001B[0m\u001B[0marr\u001B[0m\u001B[0;34m,\u001B[0m \u001B[0mindexer\u001B[0m\u001B[0;34m,\u001B[0m \u001B[0mout\u001B[0m\u001B[0;34m,\u001B[0m \u001B[0mfill_value\u001B[0m\u001B[0;34m)\u001B[0m\u001B[0;34m\u001B[0m\u001B[0;34m\u001B[0m\u001B[0m\n\u001B[0m\u001B[1;32m   1663\u001B[0m \u001B[0;34m\u001B[0m\u001B[0m\n\u001B[1;32m   1664\u001B[0m     \u001B[0;32mif\u001B[0m \u001B[0mflip_order\u001B[0m\u001B[0;34m:\u001B[0m\u001B[0;34m\u001B[0m\u001B[0;34m\u001B[0m\u001B[0m\n",
      "\u001B[0;31mKeyboardInterrupt\u001B[0m: "
     ]
    }
   ],
   "source": [
    "models = {}\n",
    "field = 'dept_id'\n",
    "for idx_ in ds[field].unique().tolist():\n",
    "    logging.info(f'Train with {field} = {idx_}')\n",
    "    \n",
    "    cat_train = train_ds[train_ds[field] == idx_]\n",
    "    cat_train = cat_train[XS + [TARGET]].dropna()\n",
    "    cat_val = val_ds[val_ds[field] == idx_]\n",
    "    cat_val = cat_val[XS + [TARGET]].dropna()\n",
    "    logging.debug(f'Shape of train set: {cat_train.shape}')\n",
    "    logging.debug(f'Shape of valid set: {cat_val.shape}')\n",
    "\n",
    "    cat_train_set = lgb.Dataset(cat_train[XS], cat_train[TARGET])\n",
    "    cat_valid_set = lgb.Dataset(cat_val[XS], cat_val[TARGET])\n",
    "\n",
    "    logging.info('Starting model train')\n",
    "    evals_result = {}\n",
    "    model = lgb.train(\n",
    "        params,\n",
    "        train_set=cat_train_set,\n",
    "        valid_sets=[cat_train_set, cat_valid_set],\n",
    "        early_stopping_rounds=10,\n",
    "        categorical_feature=CATEGORICAL_FEATURES,\n",
    "        evals_result=evals_result,\n",
    "        verbose_eval=20 \n",
    "    )\n",
    "    models[idx_] = {\n",
    "        'model': model,\n",
    "        'evals_result': evals_result\n",
    "    }\n",
    "    logging.info('The model is trained')"
   ]
  },
  {
   "cell_type": "code",
   "execution_count": null,
   "metadata": {},
   "outputs": [],
   "source": [
    "val_pred = val_ds.copy()\n",
    "for idx_, model_dict in models.items():\n",
    "#     print(idx_)\n",
    "    model = model_dict['model']\n",
    "    \n",
    "    data_for_predict = val_pred.loc[val_pred[field] == idx_]\n",
    "    \n",
    "    predict = model.predict(data_for_predict[XS])\n",
    "    val_pred.loc[val_pred[field] == idx_, 'sold_predict'] = predict\n",
    "\n",
    "val_pred['d'] = val_pred.d.apply(lambda x: f'd_{x}')\n",
    "val_pred = val_pred.pivot(index='id', columns='d', values='sold_predict')\n",
    "val_pred = val_ds[ID_COLUMNS].drop_duplicates().merge(val_pred, on='id')\n",
    "print('WRMSSE: ', metric.score(val_pred))"
   ]
  },
  {
   "cell_type": "markdown",
   "metadata": {},
   "source": [
    "# Просмотр важности фичей"
   ]
  },
  {
   "cell_type": "code",
   "execution_count": 61,
   "metadata": {},
   "outputs": [],
   "source": [
    "feature_importances = pd.DataFrame(\n",
    "    sorted(\n",
    "        sorted(zip(model.feature_importance(importance_type='gain'), model.feature_name()))\n",
    "    ),\n",
    "    columns=['values', 'names']\n",
    ")\n",
    "feature_importances = feature_importances.sort_values(by='values', ascending=False)"
   ]
  },
  {
   "cell_type": "code",
   "execution_count": 62,
   "metadata": {},
   "outputs": [
    {
     "data": {
      "text/html": [
       "<div>\n",
       "<style scoped>\n",
       "    .dataframe tbody tr th:only-of-type {\n",
       "        vertical-align: middle;\n",
       "    }\n",
       "\n",
       "    .dataframe tbody tr th {\n",
       "        vertical-align: top;\n",
       "    }\n",
       "\n",
       "    .dataframe thead th {\n",
       "        text-align: right;\n",
       "    }\n",
       "</style>\n",
       "<table border=\"1\" class=\"dataframe\">\n",
       "  <thead>\n",
       "    <tr style=\"text-align: right;\">\n",
       "      <th></th>\n",
       "      <th>values</th>\n",
       "      <th>names</th>\n",
       "    </tr>\n",
       "  </thead>\n",
       "  <tbody>\n",
       "    <tr>\n",
       "      <th>0</th>\n",
       "      <td>9.964449e+02</td>\n",
       "      <td>event_type_2</td>\n",
       "    </tr>\n",
       "    <tr>\n",
       "      <th>1</th>\n",
       "      <td>5.537738e+03</td>\n",
       "      <td>event_name_2</td>\n",
       "    </tr>\n",
       "    <tr>\n",
       "      <th>2</th>\n",
       "      <td>9.966457e+03</td>\n",
       "      <td>event_type_1</td>\n",
       "    </tr>\n",
       "    <tr>\n",
       "      <th>3</th>\n",
       "      <td>1.182320e+04</td>\n",
       "      <td>price_diff_1</td>\n",
       "    </tr>\n",
       "    <tr>\n",
       "      <th>4</th>\n",
       "      <td>6.516351e+04</td>\n",
       "      <td>price_diff_7</td>\n",
       "    </tr>\n",
       "    <tr>\n",
       "      <th>5</th>\n",
       "      <td>2.169931e+05</td>\n",
       "      <td>price_diff_3</td>\n",
       "    </tr>\n",
       "    <tr>\n",
       "      <th>6</th>\n",
       "      <td>3.184908e+05</td>\n",
       "      <td>snap_CA</td>\n",
       "    </tr>\n",
       "    <tr>\n",
       "      <th>7</th>\n",
       "      <td>4.093798e+05</td>\n",
       "      <td>snap_TX</td>\n",
       "    </tr>\n",
       "    <tr>\n",
       "      <th>8</th>\n",
       "      <td>6.139821e+05</td>\n",
       "      <td>snap_WI</td>\n",
       "    </tr>\n",
       "    <tr>\n",
       "      <th>9</th>\n",
       "      <td>8.375292e+05</td>\n",
       "      <td>price_diff_28</td>\n",
       "    </tr>\n",
       "    <tr>\n",
       "      <th>10</th>\n",
       "      <td>2.283442e+06</td>\n",
       "      <td>event_name_1</td>\n",
       "    </tr>\n",
       "    <tr>\n",
       "      <th>11</th>\n",
       "      <td>3.211684e+06</td>\n",
       "      <td>sell_price</td>\n",
       "    </tr>\n",
       "    <tr>\n",
       "      <th>12</th>\n",
       "      <td>3.370640e+06</td>\n",
       "      <td>sold_shift_28</td>\n",
       "    </tr>\n",
       "    <tr>\n",
       "      <th>13</th>\n",
       "      <td>3.968089e+06</td>\n",
       "      <td>state_id</td>\n",
       "    </tr>\n",
       "    <tr>\n",
       "      <th>14</th>\n",
       "      <td>4.446863e+06</td>\n",
       "      <td>cat_id</td>\n",
       "    </tr>\n",
       "    <tr>\n",
       "      <th>15</th>\n",
       "      <td>4.623186e+06</td>\n",
       "      <td>price_shift_7</td>\n",
       "    </tr>\n",
       "    <tr>\n",
       "      <th>16</th>\n",
       "      <td>5.120640e+06</td>\n",
       "      <td>price_shift_28</td>\n",
       "    </tr>\n",
       "    <tr>\n",
       "      <th>17</th>\n",
       "      <td>5.880884e+06</td>\n",
       "      <td>weekday</td>\n",
       "    </tr>\n",
       "    <tr>\n",
       "      <th>18</th>\n",
       "      <td>1.497967e+07</td>\n",
       "      <td>price_shift_3</td>\n",
       "    </tr>\n",
       "    <tr>\n",
       "      <th>19</th>\n",
       "      <td>1.576739e+07</td>\n",
       "      <td>price_shift_1</td>\n",
       "    </tr>\n",
       "    <tr>\n",
       "      <th>20</th>\n",
       "      <td>1.618006e+07</td>\n",
       "      <td>sold_shift_56</td>\n",
       "    </tr>\n",
       "    <tr>\n",
       "      <th>21</th>\n",
       "      <td>2.784592e+07</td>\n",
       "      <td>sold_shift_42</td>\n",
       "    </tr>\n",
       "    <tr>\n",
       "      <th>22</th>\n",
       "      <td>3.917413e+07</td>\n",
       "      <td>store_id</td>\n",
       "    </tr>\n",
       "    <tr>\n",
       "      <th>23</th>\n",
       "      <td>4.789049e+07</td>\n",
       "      <td>dept_id</td>\n",
       "    </tr>\n",
       "    <tr>\n",
       "      <th>24</th>\n",
       "      <td>3.434113e+08</td>\n",
       "      <td>item_id</td>\n",
       "    </tr>\n",
       "  </tbody>\n",
       "</table>\n",
       "</div>"
      ],
      "text/plain": [
       "          values           names\n",
       "0   9.964449e+02    event_type_2\n",
       "1   5.537738e+03    event_name_2\n",
       "2   9.966457e+03    event_type_1\n",
       "3   1.182320e+04    price_diff_1\n",
       "4   6.516351e+04    price_diff_7\n",
       "5   2.169931e+05    price_diff_3\n",
       "6   3.184908e+05         snap_CA\n",
       "7   4.093798e+05         snap_TX\n",
       "8   6.139821e+05         snap_WI\n",
       "9   8.375292e+05   price_diff_28\n",
       "10  2.283442e+06    event_name_1\n",
       "11  3.211684e+06      sell_price\n",
       "12  3.370640e+06   sold_shift_28\n",
       "13  3.968089e+06        state_id\n",
       "14  4.446863e+06          cat_id\n",
       "15  4.623186e+06   price_shift_7\n",
       "16  5.120640e+06  price_shift_28\n",
       "17  5.880884e+06         weekday\n",
       "18  1.497967e+07   price_shift_3\n",
       "19  1.576739e+07   price_shift_1\n",
       "20  1.618006e+07   sold_shift_56\n",
       "21  2.784592e+07   sold_shift_42\n",
       "22  3.917413e+07        store_id\n",
       "23  4.789049e+07         dept_id\n",
       "24  3.434113e+08         item_id"
      ]
     },
     "execution_count": 62,
     "metadata": {},
     "output_type": "execute_result"
    }
   ],
   "source": [
    "feature_importances.sort_values(by='values')"
   ]
  },
  {
   "cell_type": "code",
   "execution_count": 25,
   "metadata": {
    "collapsed": true,
    "jupyter": {
     "outputs_hidden": true
    }
   },
   "outputs": [
    {
     "name": "stderr",
     "output_type": "stream",
     "text": [
      "[2020-06-21 21:19:25,159] DEBUG: findfont: Matching sans\\-serif:style=normal:variant=normal:weight=normal:stretch=normal:size=12.0.\n",
      "[2020-06-21 21:19:25,160] DEBUG: findfont: score(<Font 'STIXSizeThreeSym' (STIXSizThreeSymReg.ttf) normal normal regular normal>) = 10.05\n",
      "[2020-06-21 21:19:25,161] DEBUG: findfont: score(<Font 'DejaVu Serif' (DejaVuSerif-Italic.ttf) italic normal 400 normal>) = 11.05\n",
      "[2020-06-21 21:19:25,162] DEBUG: findfont: score(<Font 'STIXNonUnicode' (STIXNonUniBolIta.ttf) italic normal bold normal>) = 11.335\n",
      "[2020-06-21 21:19:25,162] DEBUG: findfont: score(<Font 'DejaVu Sans' (DejaVuSans-Oblique.ttf) oblique normal 400 normal>) = 1.05\n",
      "[2020-06-21 21:19:25,163] DEBUG: findfont: score(<Font 'STIXNonUnicode' (STIXNonUniBol.ttf) normal normal bold normal>) = 10.335\n",
      "[2020-06-21 21:19:25,164] DEBUG: findfont: score(<Font 'STIXGeneral' (STIXGeneralBol.ttf) normal normal bold normal>) = 10.335\n",
      "[2020-06-21 21:19:25,164] DEBUG: findfont: score(<Font 'DejaVu Sans Mono' (DejaVuSansMono-BoldOblique.ttf) oblique normal bold normal>) = 11.335\n",
      "[2020-06-21 21:19:25,165] DEBUG: findfont: score(<Font 'STIXNonUnicode' (STIXNonUniIta.ttf) italic normal 400 normal>) = 11.05\n",
      "[2020-06-21 21:19:25,166] DEBUG: findfont: score(<Font 'STIXSizeFourSym' (STIXSizFourSymReg.ttf) normal normal regular normal>) = 10.05\n",
      "[2020-06-21 21:19:25,167] DEBUG: findfont: score(<Font 'DejaVu Serif' (DejaVuSerif-BoldItalic.ttf) italic normal bold normal>) = 11.335\n",
      "[2020-06-21 21:19:25,168] DEBUG: findfont: score(<Font 'cmsy10' (cmsy10.ttf) normal normal 400 normal>) = 10.05\n",
      "[2020-06-21 21:19:25,168] DEBUG: findfont: score(<Font 'STIXSizeFiveSym' (STIXSizFiveSymReg.ttf) normal normal regular normal>) = 10.05\n",
      "[2020-06-21 21:19:25,169] DEBUG: findfont: score(<Font 'DejaVu Serif' (DejaVuSerif-Bold.ttf) normal normal bold normal>) = 10.335\n",
      "[2020-06-21 21:19:25,169] DEBUG: findfont: score(<Font 'STIXSizeThreeSym' (STIXSizThreeSymBol.ttf) normal normal bold normal>) = 10.335\n",
      "[2020-06-21 21:19:25,170] DEBUG: findfont: score(<Font 'STIXNonUnicode' (STIXNonUni.ttf) normal normal regular normal>) = 10.05\n",
      "[2020-06-21 21:19:25,171] DEBUG: findfont: score(<Font 'cmss10' (cmss10.ttf) normal normal 400 normal>) = 10.05\n",
      "[2020-06-21 21:19:25,171] DEBUG: findfont: score(<Font 'DejaVu Sans Display' (DejaVuSansDisplay.ttf) normal normal 400 normal>) = 10.05\n",
      "[2020-06-21 21:19:25,172] DEBUG: findfont: score(<Font 'STIXSizeFourSym' (STIXSizFourSymBol.ttf) normal normal bold normal>) = 10.335\n",
      "[2020-06-21 21:19:25,173] DEBUG: findfont: score(<Font 'DejaVu Sans Mono' (DejaVuSansMono.ttf) normal normal 400 normal>) = 10.05\n",
      "[2020-06-21 21:19:25,173] DEBUG: findfont: score(<Font 'STIXGeneral' (STIXGeneralItalic.ttf) italic normal 400 normal>) = 11.05\n",
      "[2020-06-21 21:19:25,174] DEBUG: findfont: score(<Font 'cmr10' (cmr10.ttf) normal normal 400 normal>) = 10.05\n",
      "[2020-06-21 21:19:25,175] DEBUG: findfont: score(<Font 'STIXSizeTwoSym' (STIXSizTwoSymReg.ttf) normal normal regular normal>) = 10.05\n",
      "[2020-06-21 21:19:25,175] DEBUG: findfont: score(<Font 'DejaVu Sans' (DejaVuSans-BoldOblique.ttf) oblique normal bold normal>) = 1.335\n",
      "[2020-06-21 21:19:25,176] DEBUG: findfont: score(<Font 'DejaVu Sans' (DejaVuSans.ttf) normal normal 400 normal>) = 0.05\n",
      "[2020-06-21 21:19:25,176] DEBUG: findfont: score(<Font 'DejaVu Serif Display' (DejaVuSerifDisplay.ttf) normal normal 400 normal>) = 10.05\n",
      "[2020-06-21 21:19:25,177] DEBUG: findfont: score(<Font 'DejaVu Sans Mono' (DejaVuSansMono-Bold.ttf) normal normal bold normal>) = 10.335\n",
      "[2020-06-21 21:19:25,178] DEBUG: findfont: score(<Font 'cmb10' (cmb10.ttf) normal normal 400 normal>) = 10.05\n",
      "[2020-06-21 21:19:25,178] DEBUG: findfont: score(<Font 'DejaVu Sans' (DejaVuSans-Bold.ttf) normal normal bold normal>) = 0.33499999999999996\n",
      "[2020-06-21 21:19:25,179] DEBUG: findfont: score(<Font 'cmtt10' (cmtt10.ttf) normal normal 400 normal>) = 10.05\n",
      "[2020-06-21 21:19:25,180] DEBUG: findfont: score(<Font 'STIXSizeOneSym' (STIXSizOneSymReg.ttf) normal normal regular normal>) = 10.05\n",
      "[2020-06-21 21:19:25,180] DEBUG: findfont: score(<Font 'DejaVu Serif' (DejaVuSerif.ttf) normal normal 400 normal>) = 10.05\n",
      "[2020-06-21 21:19:25,181] DEBUG: findfont: score(<Font 'STIXSizeTwoSym' (STIXSizTwoSymBol.ttf) normal normal bold normal>) = 10.335\n",
      "[2020-06-21 21:19:25,182] DEBUG: findfont: score(<Font 'STIXSizeOneSym' (STIXSizOneSymBol.ttf) normal normal bold normal>) = 10.335\n",
      "[2020-06-21 21:19:25,182] DEBUG: findfont: score(<Font 'STIXGeneral' (STIXGeneralBolIta.ttf) italic normal bold normal>) = 11.335\n",
      "[2020-06-21 21:19:25,183] DEBUG: findfont: score(<Font 'cmex10' (cmex10.ttf) normal normal 400 normal>) = 10.05\n",
      "[2020-06-21 21:19:25,183] DEBUG: findfont: score(<Font 'cmmi10' (cmmi10.ttf) normal normal 400 normal>) = 10.05\n",
      "[2020-06-21 21:19:25,184] DEBUG: findfont: score(<Font 'STIXGeneral' (STIXGeneral.ttf) normal normal regular normal>) = 10.05\n",
      "[2020-06-21 21:19:25,185] DEBUG: findfont: score(<Font 'DejaVu Sans Mono' (DejaVuSansMono-Oblique.ttf) oblique normal 400 normal>) = 11.05\n",
      "[2020-06-21 21:19:25,185] DEBUG: findfont: score(<Font 'Liberation Sans Narrow' (LiberationSansNarrow-Bold.ttf) normal normal bold condensed>) = 10.535\n",
      "[2020-06-21 21:19:25,186] DEBUG: findfont: score(<Font 'Liberation Sans' (LiberationSans-Italic.ttf) italic normal 400 normal>) = 11.05\n",
      "[2020-06-21 21:19:25,187] DEBUG: findfont: score(<Font 'Liberation Sans' (LiberationSans-Bold.ttf) normal normal bold normal>) = 10.335\n",
      "[2020-06-21 21:19:25,187] DEBUG: findfont: score(<Font 'Liberation Mono' (LiberationMono-Regular.ttf) normal normal 400 normal>) = 10.05\n",
      "[2020-06-21 21:19:25,188] DEBUG: findfont: score(<Font 'Liberation Sans' (LiberationSans-Regular.ttf) normal normal 400 normal>) = 10.05\n",
      "[2020-06-21 21:19:25,189] DEBUG: findfont: score(<Font 'Liberation Mono' (LiberationMono-Bold.ttf) normal normal bold normal>) = 10.335\n",
      "[2020-06-21 21:19:25,189] DEBUG: findfont: score(<Font 'Liberation Mono' (LiberationMono-Italic.ttf) italic normal 400 normal>) = 11.05\n",
      "[2020-06-21 21:19:25,190] DEBUG: findfont: score(<Font 'Liberation Sans Narrow' (LiberationSansNarrow-BoldItalic.ttf) italic normal bold condensed>) = 11.535\n",
      "[2020-06-21 21:19:25,190] DEBUG: findfont: score(<Font 'Liberation Mono' (LiberationMono-BoldItalic.ttf) italic normal bold normal>) = 11.335\n",
      "[2020-06-21 21:19:25,191] DEBUG: findfont: score(<Font 'Liberation Sans' (LiberationSans-BoldItalic.ttf) italic normal bold normal>) = 11.335\n",
      "[2020-06-21 21:19:25,192] DEBUG: findfont: score(<Font 'Liberation Sans Narrow' (LiberationSansNarrow-Italic.ttf) italic normal 400 condensed>) = 11.25\n",
      "[2020-06-21 21:19:25,192] DEBUG: findfont: score(<Font 'Liberation Serif' (LiberationSerif-Italic.ttf) italic normal 400 normal>) = 11.05\n",
      "[2020-06-21 21:19:25,193] DEBUG: findfont: score(<Font 'Liberation Serif' (LiberationSerif-Bold.ttf) normal normal bold normal>) = 10.335\n",
      "[2020-06-21 21:19:25,194] DEBUG: findfont: score(<Font 'Liberation Sans Narrow' (LiberationSansNarrow-Regular.ttf) normal normal 400 condensed>) = 10.25\n",
      "[2020-06-21 21:19:25,194] DEBUG: findfont: score(<Font 'Liberation Serif' (LiberationSerif-BoldItalic.ttf) italic normal bold normal>) = 11.335\n",
      "[2020-06-21 21:19:25,195] DEBUG: findfont: score(<Font 'Liberation Serif' (LiberationSerif-Regular.ttf) normal normal 400 normal>) = 10.05\n",
      "[2020-06-21 21:19:25,195] DEBUG: findfont: Matching sans\\-serif:style=normal:variant=normal:weight=normal:stretch=normal:size=12.0 to DejaVu Sans ('/home/user/projects/m5/.venv/lib/python3.7/site-packages/matplotlib/mpl-data/fonts/ttf/DejaVuSans.ttf') with score of 0.050000.\n",
      "[2020-06-21 21:19:25,220] DEBUG: findfont: Matching sans\\-serif:style=normal:variant=normal:weight=normal:stretch=normal:size=10.0.\n",
      "[2020-06-21 21:19:25,221] DEBUG: findfont: score(<Font 'STIXSizeThreeSym' (STIXSizThreeSymReg.ttf) normal normal regular normal>) = 10.05\n",
      "[2020-06-21 21:19:25,222] DEBUG: findfont: score(<Font 'DejaVu Serif' (DejaVuSerif-Italic.ttf) italic normal 400 normal>) = 11.05\n",
      "[2020-06-21 21:19:25,223] DEBUG: findfont: score(<Font 'STIXNonUnicode' (STIXNonUniBolIta.ttf) italic normal bold normal>) = 11.335\n",
      "[2020-06-21 21:19:25,223] DEBUG: findfont: score(<Font 'DejaVu Sans' (DejaVuSans-Oblique.ttf) oblique normal 400 normal>) = 1.05\n",
      "[2020-06-21 21:19:25,224] DEBUG: findfont: score(<Font 'STIXNonUnicode' (STIXNonUniBol.ttf) normal normal bold normal>) = 10.335\n",
      "[2020-06-21 21:19:25,224] DEBUG: findfont: score(<Font 'STIXGeneral' (STIXGeneralBol.ttf) normal normal bold normal>) = 10.335\n",
      "[2020-06-21 21:19:25,225] DEBUG: findfont: score(<Font 'DejaVu Sans Mono' (DejaVuSansMono-BoldOblique.ttf) oblique normal bold normal>) = 11.335\n",
      "[2020-06-21 21:19:25,226] DEBUG: findfont: score(<Font 'STIXNonUnicode' (STIXNonUniIta.ttf) italic normal 400 normal>) = 11.05\n",
      "[2020-06-21 21:19:25,227] DEBUG: findfont: score(<Font 'STIXSizeFourSym' (STIXSizFourSymReg.ttf) normal normal regular normal>) = 10.05\n",
      "[2020-06-21 21:19:25,227] DEBUG: findfont: score(<Font 'DejaVu Serif' (DejaVuSerif-BoldItalic.ttf) italic normal bold normal>) = 11.335\n",
      "[2020-06-21 21:19:25,228] DEBUG: findfont: score(<Font 'cmsy10' (cmsy10.ttf) normal normal 400 normal>) = 10.05\n",
      "[2020-06-21 21:19:25,229] DEBUG: findfont: score(<Font 'STIXSizeFiveSym' (STIXSizFiveSymReg.ttf) normal normal regular normal>) = 10.05\n",
      "[2020-06-21 21:19:25,229] DEBUG: findfont: score(<Font 'DejaVu Serif' (DejaVuSerif-Bold.ttf) normal normal bold normal>) = 10.335\n",
      "[2020-06-21 21:19:25,231] DEBUG: findfont: score(<Font 'STIXSizeThreeSym' (STIXSizThreeSymBol.ttf) normal normal bold normal>) = 10.335\n",
      "[2020-06-21 21:19:25,231] DEBUG: findfont: score(<Font 'STIXNonUnicode' (STIXNonUni.ttf) normal normal regular normal>) = 10.05\n",
      "[2020-06-21 21:19:25,232] DEBUG: findfont: score(<Font 'cmss10' (cmss10.ttf) normal normal 400 normal>) = 10.05\n",
      "[2020-06-21 21:19:25,233] DEBUG: findfont: score(<Font 'DejaVu Sans Display' (DejaVuSansDisplay.ttf) normal normal 400 normal>) = 10.05\n",
      "[2020-06-21 21:19:25,233] DEBUG: findfont: score(<Font 'STIXSizeFourSym' (STIXSizFourSymBol.ttf) normal normal bold normal>) = 10.335\n",
      "[2020-06-21 21:19:25,234] DEBUG: findfont: score(<Font 'DejaVu Sans Mono' (DejaVuSansMono.ttf) normal normal 400 normal>) = 10.05\n",
      "[2020-06-21 21:19:25,234] DEBUG: findfont: score(<Font 'STIXGeneral' (STIXGeneralItalic.ttf) italic normal 400 normal>) = 11.05\n",
      "[2020-06-21 21:19:25,235] DEBUG: findfont: score(<Font 'cmr10' (cmr10.ttf) normal normal 400 normal>) = 10.05\n",
      "[2020-06-21 21:19:25,236] DEBUG: findfont: score(<Font 'STIXSizeTwoSym' (STIXSizTwoSymReg.ttf) normal normal regular normal>) = 10.05\n",
      "[2020-06-21 21:19:25,236] DEBUG: findfont: score(<Font 'DejaVu Sans' (DejaVuSans-BoldOblique.ttf) oblique normal bold normal>) = 1.335\n",
      "[2020-06-21 21:19:25,237] DEBUG: findfont: score(<Font 'DejaVu Sans' (DejaVuSans.ttf) normal normal 400 normal>) = 0.05\n",
      "[2020-06-21 21:19:25,237] DEBUG: findfont: score(<Font 'DejaVu Serif Display' (DejaVuSerifDisplay.ttf) normal normal 400 normal>) = 10.05\n",
      "[2020-06-21 21:19:25,238] DEBUG: findfont: score(<Font 'DejaVu Sans Mono' (DejaVuSansMono-Bold.ttf) normal normal bold normal>) = 10.335\n",
      "[2020-06-21 21:19:25,239] DEBUG: findfont: score(<Font 'cmb10' (cmb10.ttf) normal normal 400 normal>) = 10.05\n",
      "[2020-06-21 21:19:25,239] DEBUG: findfont: score(<Font 'DejaVu Sans' (DejaVuSans-Bold.ttf) normal normal bold normal>) = 0.33499999999999996\n",
      "[2020-06-21 21:19:25,240] DEBUG: findfont: score(<Font 'cmtt10' (cmtt10.ttf) normal normal 400 normal>) = 10.05\n",
      "[2020-06-21 21:19:25,241] DEBUG: findfont: score(<Font 'STIXSizeOneSym' (STIXSizOneSymReg.ttf) normal normal regular normal>) = 10.05\n",
      "[2020-06-21 21:19:25,241] DEBUG: findfont: score(<Font 'DejaVu Serif' (DejaVuSerif.ttf) normal normal 400 normal>) = 10.05\n",
      "[2020-06-21 21:19:25,242] DEBUG: findfont: score(<Font 'STIXSizeTwoSym' (STIXSizTwoSymBol.ttf) normal normal bold normal>) = 10.335\n",
      "[2020-06-21 21:19:25,243] DEBUG: findfont: score(<Font 'STIXSizeOneSym' (STIXSizOneSymBol.ttf) normal normal bold normal>) = 10.335\n",
      "[2020-06-21 21:19:25,243] DEBUG: findfont: score(<Font 'STIXGeneral' (STIXGeneralBolIta.ttf) italic normal bold normal>) = 11.335\n",
      "[2020-06-21 21:19:25,244] DEBUG: findfont: score(<Font 'cmex10' (cmex10.ttf) normal normal 400 normal>) = 10.05\n",
      "[2020-06-21 21:19:25,244] DEBUG: findfont: score(<Font 'cmmi10' (cmmi10.ttf) normal normal 400 normal>) = 10.05\n",
      "[2020-06-21 21:19:25,245] DEBUG: findfont: score(<Font 'STIXGeneral' (STIXGeneral.ttf) normal normal regular normal>) = 10.05\n",
      "[2020-06-21 21:19:25,246] DEBUG: findfont: score(<Font 'DejaVu Sans Mono' (DejaVuSansMono-Oblique.ttf) oblique normal 400 normal>) = 11.05\n",
      "[2020-06-21 21:19:25,246] DEBUG: findfont: score(<Font 'Liberation Sans Narrow' (LiberationSansNarrow-Bold.ttf) normal normal bold condensed>) = 10.535\n",
      "[2020-06-21 21:19:25,247] DEBUG: findfont: score(<Font 'Liberation Sans' (LiberationSans-Italic.ttf) italic normal 400 normal>) = 11.05\n",
      "[2020-06-21 21:19:25,247] DEBUG: findfont: score(<Font 'Liberation Sans' (LiberationSans-Bold.ttf) normal normal bold normal>) = 10.335\n",
      "[2020-06-21 21:19:25,248] DEBUG: findfont: score(<Font 'Liberation Mono' (LiberationMono-Regular.ttf) normal normal 400 normal>) = 10.05\n",
      "[2020-06-21 21:19:25,249] DEBUG: findfont: score(<Font 'Liberation Sans' (LiberationSans-Regular.ttf) normal normal 400 normal>) = 10.05\n",
      "[2020-06-21 21:19:25,249] DEBUG: findfont: score(<Font 'Liberation Mono' (LiberationMono-Bold.ttf) normal normal bold normal>) = 10.335\n",
      "[2020-06-21 21:19:25,250] DEBUG: findfont: score(<Font 'Liberation Mono' (LiberationMono-Italic.ttf) italic normal 400 normal>) = 11.05\n",
      "[2020-06-21 21:19:25,250] DEBUG: findfont: score(<Font 'Liberation Sans Narrow' (LiberationSansNarrow-BoldItalic.ttf) italic normal bold condensed>) = 11.535\n",
      "[2020-06-21 21:19:25,251] DEBUG: findfont: score(<Font 'Liberation Mono' (LiberationMono-BoldItalic.ttf) italic normal bold normal>) = 11.335\n",
      "[2020-06-21 21:19:25,252] DEBUG: findfont: score(<Font 'Liberation Sans' (LiberationSans-BoldItalic.ttf) italic normal bold normal>) = 11.335\n",
      "[2020-06-21 21:19:25,252] DEBUG: findfont: score(<Font 'Liberation Sans Narrow' (LiberationSansNarrow-Italic.ttf) italic normal 400 condensed>) = 11.25\n",
      "[2020-06-21 21:19:25,253] DEBUG: findfont: score(<Font 'Liberation Serif' (LiberationSerif-Italic.ttf) italic normal 400 normal>) = 11.05\n",
      "[2020-06-21 21:19:25,253] DEBUG: findfont: score(<Font 'Liberation Serif' (LiberationSerif-Bold.ttf) normal normal bold normal>) = 10.335\n",
      "[2020-06-21 21:19:25,254] DEBUG: findfont: score(<Font 'Liberation Sans Narrow' (LiberationSansNarrow-Regular.ttf) normal normal 400 condensed>) = 10.25\n",
      "[2020-06-21 21:19:25,255] DEBUG: findfont: score(<Font 'Liberation Serif' (LiberationSerif-BoldItalic.ttf) italic normal bold normal>) = 11.335\n",
      "[2020-06-21 21:19:25,255] DEBUG: findfont: score(<Font 'Liberation Serif' (LiberationSerif-Regular.ttf) normal normal 400 normal>) = 10.05\n",
      "[2020-06-21 21:19:25,256] DEBUG: findfont: Matching sans\\-serif:style=normal:variant=normal:weight=normal:stretch=normal:size=10.0 to DejaVu Sans ('/home/user/projects/m5/.venv/lib/python3.7/site-packages/matplotlib/mpl-data/fonts/ttf/DejaVuSans.ttf') with score of 0.050000.\n"
     ]
    },
    {
     "data": {
      "image/png": "[encoded data removed]",
      "text/plain": [
       "<Figure size 1080x720 with 1 Axes>"
      ]
     },
     "metadata": {
      "needs_background": "light"
     },
     "output_type": "display_data"
    }
   ],
   "source": [
    "plt.figure(figsize=(15, 10))\n",
    "sns.barplot(x='values', y='names', data=feature_importances.head(50))\n",
    "plt.title('Общий график значимости ТОП-50 признаков (LightGBM gain)')\n",
    "plt.ylabel('Название признака')\n",
    "plt.xlabel('Важность (Gain)')\n",
    "plt.show()"
   ]
  },
  {
   "cell_type": "markdown",
   "metadata": {},
   "source": [
    "# Подготовка \"станартного\" вида валидации"
   ]
  },
  {
   "cell_type": "markdown",
   "metadata": {},
   "source": [
    "# Отправка сабмита"
   ]
  },
  {
   "cell_type": "code",
   "execution_count": null,
   "metadata": {},
   "outputs": [],
   "source": [
    "submit_days = only_days_columns(val_pred)\n",
    "submit_evaluation = val_pred[['id'] + submit_days]\n",
    "submit_rename_dict = {\n",
    "    col: f'F{i}' \n",
    "    for i, col in enumerate(only_days_columns(submit_evaluation), start=1)\n",
    "}\n",
    "submit_evaluation = submit_evaluation.rename(columns=submit_rename_dict)\n",
    "\n",
    "submit_validation = submit_evaluation.copy()\n",
    "submit_validation['id'] = submit_validation.id.str.replace('evaluation', 'validation')\n",
    "\n",
    "submit = pd.concat([submit_evaluation, submit_validation])"
   ]
  },
  {
   "cell_type": "code",
   "execution_count": null,
   "metadata": {},
   "outputs": [],
   "source": [
    "submit.to_csv('submit.csv', index=False)"
   ]
  },
  {
   "cell_type": "code",
   "execution_count": null,
   "metadata": {},
   "outputs": [],
   "source": [
    "!kaggle competitions submit -c m5-forecasting-accuracy -f submit.csv -m \"Test price\""
   ]
  }
 ],
 "metadata": {
  "kernelspec": {
   "display_name": "Python 3",
   "language": "python",
   "name": "python3"
  },
  "language_info": {
   "codemirror_mode": {
    "name": "ipython",
    "version": 3
   },
   "file_extension": ".py",
   "mimetype": "text/x-python",
   "name": "python",
   "nbconvert_exporter": "python",
   "pygments_lexer": "ipython3",
   "version": "3.7.5"
  }
 },
 "nbformat": 4,
 "nbformat_minor": 4
}